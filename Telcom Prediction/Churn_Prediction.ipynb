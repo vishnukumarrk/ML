{
 "cells": [
  {
   "cell_type": "markdown",
   "metadata": {},
   "source": [
    "# ------------------------------------- CLASSIFICATION TASK --------------------------------------"
   ]
  },
  {
   "cell_type": "markdown",
   "metadata": {},
   "source": [
    "# CHURN\n",
    "\n",
    "Churn Prediction is quite important in Telcom and churn rates is one of thier business metrics as the cost involved in retaining an existing customer is much lesser than acquiring a new customer. So this data is about predicting if a customer will churn based on the characteristics that they posses"
   ]
  },
  {
   "cell_type": "markdown",
   "metadata": {},
   "source": [
    "# Part 1\n",
    "\n",
    "# Importing packages, Reading Data"
   ]
  },
  {
   "cell_type": "code",
   "execution_count": 1,
   "metadata": {},
   "outputs": [
    {
     "data": {
      "text/html": [
       "        <script type=\"text/javascript\">\n",
       "        window.PlotlyConfig = {MathJaxConfig: 'local'};\n",
       "        if (window.MathJax) {MathJax.Hub.Config({SVG: {font: \"STIX-Web\"}});}\n",
       "        if (typeof require !== 'undefined') {\n",
       "        require.undef(\"plotly\");\n",
       "        requirejs.config({\n",
       "            paths: {\n",
       "                'plotly': ['https://cdn.plot.ly/plotly-latest.min']\n",
       "            }\n",
       "        });\n",
       "        require(['plotly'], function(Plotly) {\n",
       "            window._Plotly = Plotly;\n",
       "        });\n",
       "        }\n",
       "        </script>\n",
       "        "
      ]
     },
     "metadata": {},
     "output_type": "display_data"
    }
   ],
   "source": [
    "import numpy as np \n",
    "import pandas as pd\n",
    "#Visualization libraries\n",
    "%matplotlib inline\n",
    "import matplotlib.pyplot as plt\n",
    "import seaborn as sns\n",
    "import plotly.offline as py\n",
    "py.init_notebook_mode(connected=True)\n",
    "from plotly.offline import download_plotlyjs, init_notebook_mode, plot, iplot\n",
    "import plotly.graph_objs as go\n",
    "import warnings\n",
    "warnings.filterwarnings(\"ignore\")"
   ]
  },
  {
   "cell_type": "code",
   "execution_count": 2,
   "metadata": {},
   "outputs": [
    {
     "data": {
      "text/html": [
       "<div>\n",
       "<style scoped>\n",
       "    .dataframe tbody tr th:only-of-type {\n",
       "        vertical-align: middle;\n",
       "    }\n",
       "\n",
       "    .dataframe tbody tr th {\n",
       "        vertical-align: top;\n",
       "    }\n",
       "\n",
       "    .dataframe thead th {\n",
       "        text-align: right;\n",
       "    }\n",
       "</style>\n",
       "<table border=\"1\" class=\"dataframe\">\n",
       "  <thead>\n",
       "    <tr style=\"text-align: right;\">\n",
       "      <th></th>\n",
       "      <th>customerID</th>\n",
       "      <th>gender</th>\n",
       "      <th>SeniorCitizen</th>\n",
       "      <th>Partner</th>\n",
       "      <th>Dependents</th>\n",
       "      <th>tenure</th>\n",
       "      <th>PhoneService</th>\n",
       "      <th>MultipleLines</th>\n",
       "      <th>InternetService</th>\n",
       "      <th>OnlineSecurity</th>\n",
       "      <th>...</th>\n",
       "      <th>DeviceProtection</th>\n",
       "      <th>TechSupport</th>\n",
       "      <th>StreamingTV</th>\n",
       "      <th>StreamingMovies</th>\n",
       "      <th>Contract</th>\n",
       "      <th>PaperlessBilling</th>\n",
       "      <th>PaymentMethod</th>\n",
       "      <th>MonthlyCharges</th>\n",
       "      <th>TotalCharges</th>\n",
       "      <th>Churn</th>\n",
       "    </tr>\n",
       "  </thead>\n",
       "  <tbody>\n",
       "    <tr>\n",
       "      <td>0</td>\n",
       "      <td>7590-VHVEG</td>\n",
       "      <td>Female</td>\n",
       "      <td>0</td>\n",
       "      <td>Yes</td>\n",
       "      <td>No</td>\n",
       "      <td>1</td>\n",
       "      <td>No</td>\n",
       "      <td>No phone service</td>\n",
       "      <td>DSL</td>\n",
       "      <td>No</td>\n",
       "      <td>...</td>\n",
       "      <td>No</td>\n",
       "      <td>No</td>\n",
       "      <td>No</td>\n",
       "      <td>No</td>\n",
       "      <td>Month-to-month</td>\n",
       "      <td>Yes</td>\n",
       "      <td>Electronic check</td>\n",
       "      <td>29.85</td>\n",
       "      <td>29.85</td>\n",
       "      <td>No</td>\n",
       "    </tr>\n",
       "    <tr>\n",
       "      <td>1</td>\n",
       "      <td>5575-GNVDE</td>\n",
       "      <td>Male</td>\n",
       "      <td>0</td>\n",
       "      <td>No</td>\n",
       "      <td>No</td>\n",
       "      <td>34</td>\n",
       "      <td>Yes</td>\n",
       "      <td>No</td>\n",
       "      <td>DSL</td>\n",
       "      <td>Yes</td>\n",
       "      <td>...</td>\n",
       "      <td>Yes</td>\n",
       "      <td>No</td>\n",
       "      <td>No</td>\n",
       "      <td>No</td>\n",
       "      <td>One year</td>\n",
       "      <td>No</td>\n",
       "      <td>Mailed check</td>\n",
       "      <td>56.95</td>\n",
       "      <td>1889.5</td>\n",
       "      <td>No</td>\n",
       "    </tr>\n",
       "    <tr>\n",
       "      <td>2</td>\n",
       "      <td>3668-QPYBK</td>\n",
       "      <td>Male</td>\n",
       "      <td>0</td>\n",
       "      <td>No</td>\n",
       "      <td>No</td>\n",
       "      <td>2</td>\n",
       "      <td>Yes</td>\n",
       "      <td>No</td>\n",
       "      <td>DSL</td>\n",
       "      <td>Yes</td>\n",
       "      <td>...</td>\n",
       "      <td>No</td>\n",
       "      <td>No</td>\n",
       "      <td>No</td>\n",
       "      <td>No</td>\n",
       "      <td>Month-to-month</td>\n",
       "      <td>Yes</td>\n",
       "      <td>Mailed check</td>\n",
       "      <td>53.85</td>\n",
       "      <td>108.15</td>\n",
       "      <td>Yes</td>\n",
       "    </tr>\n",
       "    <tr>\n",
       "      <td>3</td>\n",
       "      <td>7795-CFOCW</td>\n",
       "      <td>Male</td>\n",
       "      <td>0</td>\n",
       "      <td>No</td>\n",
       "      <td>No</td>\n",
       "      <td>45</td>\n",
       "      <td>No</td>\n",
       "      <td>No phone service</td>\n",
       "      <td>DSL</td>\n",
       "      <td>Yes</td>\n",
       "      <td>...</td>\n",
       "      <td>Yes</td>\n",
       "      <td>Yes</td>\n",
       "      <td>No</td>\n",
       "      <td>No</td>\n",
       "      <td>One year</td>\n",
       "      <td>No</td>\n",
       "      <td>Bank transfer (automatic)</td>\n",
       "      <td>42.30</td>\n",
       "      <td>1840.75</td>\n",
       "      <td>No</td>\n",
       "    </tr>\n",
       "    <tr>\n",
       "      <td>4</td>\n",
       "      <td>9237-HQITU</td>\n",
       "      <td>Female</td>\n",
       "      <td>0</td>\n",
       "      <td>No</td>\n",
       "      <td>No</td>\n",
       "      <td>2</td>\n",
       "      <td>Yes</td>\n",
       "      <td>No</td>\n",
       "      <td>Fiber optic</td>\n",
       "      <td>No</td>\n",
       "      <td>...</td>\n",
       "      <td>No</td>\n",
       "      <td>No</td>\n",
       "      <td>No</td>\n",
       "      <td>No</td>\n",
       "      <td>Month-to-month</td>\n",
       "      <td>Yes</td>\n",
       "      <td>Electronic check</td>\n",
       "      <td>70.70</td>\n",
       "      <td>NaN</td>\n",
       "      <td>Yes</td>\n",
       "    </tr>\n",
       "  </tbody>\n",
       "</table>\n",
       "<p>5 rows × 21 columns</p>\n",
       "</div>"
      ],
      "text/plain": [
       "   customerID  gender  SeniorCitizen Partner Dependents  tenure PhoneService  \\\n",
       "0  7590-VHVEG  Female              0     Yes         No       1           No   \n",
       "1  5575-GNVDE    Male              0      No         No      34          Yes   \n",
       "2  3668-QPYBK    Male              0      No         No       2          Yes   \n",
       "3  7795-CFOCW    Male              0      No         No      45           No   \n",
       "4  9237-HQITU  Female              0      No         No       2          Yes   \n",
       "\n",
       "      MultipleLines InternetService OnlineSecurity  ... DeviceProtection  \\\n",
       "0  No phone service             DSL             No  ...               No   \n",
       "1                No             DSL            Yes  ...              Yes   \n",
       "2                No             DSL            Yes  ...               No   \n",
       "3  No phone service             DSL            Yes  ...              Yes   \n",
       "4                No     Fiber optic             No  ...               No   \n",
       "\n",
       "  TechSupport StreamingTV StreamingMovies        Contract PaperlessBilling  \\\n",
       "0          No          No              No  Month-to-month              Yes   \n",
       "1          No          No              No        One year               No   \n",
       "2          No          No              No  Month-to-month              Yes   \n",
       "3         Yes          No              No        One year               No   \n",
       "4          No          No              No  Month-to-month              Yes   \n",
       "\n",
       "               PaymentMethod MonthlyCharges  TotalCharges Churn  \n",
       "0           Electronic check          29.85         29.85    No  \n",
       "1               Mailed check          56.95        1889.5    No  \n",
       "2               Mailed check          53.85        108.15   Yes  \n",
       "3  Bank transfer (automatic)          42.30       1840.75    No  \n",
       "4           Electronic check          70.70           NaN   Yes  \n",
       "\n",
       "[5 rows x 21 columns]"
      ]
     },
     "execution_count": 2,
     "metadata": {},
     "output_type": "execute_result"
    }
   ],
   "source": [
    "data = pd.read_csv(\"Telco_Customer_Churn.csv\")\n",
    "data.head()"
   ]
  },
  {
   "cell_type": "markdown",
   "metadata": {},
   "source": [
    "# Part 2\n",
    "\n",
    "# Data Cleaning & Exploration "
   ]
  },
  {
   "cell_type": "code",
   "execution_count": 3,
   "metadata": {},
   "outputs": [
    {
     "name": "stdout",
     "output_type": "stream",
     "text": [
      "--------------------Summary of Dataset--------------------\n",
      "Rows     :  7043\n",
      "Columns  :  21\n",
      "\n",
      " Features : ['customerID', 'gender', 'SeniorCitizen', 'Partner', 'Dependents', 'tenure', 'PhoneService', 'MultipleLines', 'InternetService', 'OnlineSecurity', 'OnlineBackup', 'DeviceProtection', 'TechSupport', 'StreamingTV', 'StreamingMovies', 'Contract', 'PaperlessBilling', 'PaymentMethod', 'MonthlyCharges', 'TotalCharges', 'Churn']\n",
      "\n",
      " Missing values :  439\n",
      "\n",
      " Unique values : \n",
      " customerID          7043\n",
      "gender                 2\n",
      "SeniorCitizen          2\n",
      "Partner                2\n",
      "Dependents             2\n",
      "tenure                73\n",
      "PhoneService           2\n",
      "MultipleLines          3\n",
      "InternetService        3\n",
      "OnlineSecurity         3\n",
      "OnlineBackup           3\n",
      "DeviceProtection       3\n",
      "TechSupport            3\n",
      "StreamingTV            3\n",
      "StreamingMovies        3\n",
      "Contract               3\n",
      "PaperlessBilling       2\n",
      "PaymentMethod          4\n",
      "MonthlyCharges      1576\n",
      "TotalCharges        6387\n",
      "Churn                  2\n",
      "dtype: int64\n"
     ]
    }
   ],
   "source": [
    "print(\"--------------------Summary of Dataset--------------------\")\n",
    "print (\"Rows     : \" ,data.shape[0])\n",
    "print (\"Columns  : \" ,data.shape[1])\n",
    "print (\"\\n Features :\",data.columns.tolist())\n",
    "print (\"\\n Missing values : \", data.isnull().sum().values.sum())\n",
    "print (\"\\n Unique values : \\n\",data.nunique())"
   ]
  },
  {
   "cell_type": "code",
   "execution_count": 4,
   "metadata": {},
   "outputs": [
    {
     "data": {
      "text/html": [
       "<div>\n",
       "<style scoped>\n",
       "    .dataframe tbody tr th:only-of-type {\n",
       "        vertical-align: middle;\n",
       "    }\n",
       "\n",
       "    .dataframe tbody tr th {\n",
       "        vertical-align: top;\n",
       "    }\n",
       "\n",
       "    .dataframe thead th {\n",
       "        text-align: right;\n",
       "    }\n",
       "</style>\n",
       "<table border=\"1\" class=\"dataframe\">\n",
       "  <thead>\n",
       "    <tr style=\"text-align: right;\">\n",
       "      <th></th>\n",
       "      <th>Total</th>\n",
       "      <th>Percent</th>\n",
       "    </tr>\n",
       "  </thead>\n",
       "  <tbody>\n",
       "    <tr>\n",
       "      <td>TotalCharges</td>\n",
       "      <td>160</td>\n",
       "      <td>2.271759</td>\n",
       "    </tr>\n",
       "    <tr>\n",
       "      <td>MonthlyCharges</td>\n",
       "      <td>126</td>\n",
       "      <td>1.789010</td>\n",
       "    </tr>\n",
       "    <tr>\n",
       "      <td>Contract</td>\n",
       "      <td>106</td>\n",
       "      <td>1.505040</td>\n",
       "    </tr>\n",
       "    <tr>\n",
       "      <td>PaperlessBilling</td>\n",
       "      <td>47</td>\n",
       "      <td>0.667329</td>\n",
       "    </tr>\n",
       "    <tr>\n",
       "      <td>Churn</td>\n",
       "      <td>0</td>\n",
       "      <td>0.000000</td>\n",
       "    </tr>\n",
       "  </tbody>\n",
       "</table>\n",
       "</div>"
      ],
      "text/plain": [
       "                  Total   Percent\n",
       "TotalCharges        160  2.271759\n",
       "MonthlyCharges      126  1.789010\n",
       "Contract            106  1.505040\n",
       "PaperlessBilling     47  0.667329\n",
       "Churn                 0  0.000000"
      ]
     },
     "execution_count": 4,
     "metadata": {},
     "output_type": "execute_result"
    }
   ],
   "source": [
    "total = data.isnull().sum().sort_values(ascending = False)\n",
    "percent = (data.isnull().sum() / len(data)).sort_values(ascending = False)\n",
    "percent = percent*100\n",
    "missingData = pd.concat([total,percent],axis = 1,keys = ['Total','Percent'])\n",
    "missingData.head(5)"
   ]
  },
  {
   "cell_type": "code",
   "execution_count": 5,
   "metadata": {},
   "outputs": [
    {
     "name": "stdout",
     "output_type": "stream",
     "text": [
      "<class 'pandas.core.frame.DataFrame'>\n",
      "RangeIndex: 7043 entries, 0 to 7042\n",
      "Data columns (total 21 columns):\n",
      "customerID          7043 non-null object\n",
      "gender              7043 non-null object\n",
      "SeniorCitizen       7043 non-null int64\n",
      "Partner             7043 non-null object\n",
      "Dependents          7043 non-null object\n",
      "tenure              7043 non-null int64\n",
      "PhoneService        7043 non-null object\n",
      "MultipleLines       7043 non-null object\n",
      "InternetService     7043 non-null object\n",
      "OnlineSecurity      7043 non-null object\n",
      "OnlineBackup        7043 non-null object\n",
      "DeviceProtection    7043 non-null object\n",
      "TechSupport         7043 non-null object\n",
      "StreamingTV         7043 non-null object\n",
      "StreamingMovies     7043 non-null object\n",
      "Contract            6937 non-null object\n",
      "PaperlessBilling    6996 non-null object\n",
      "PaymentMethod       7043 non-null object\n",
      "MonthlyCharges      6917 non-null float64\n",
      "TotalCharges        6883 non-null object\n",
      "Churn               7043 non-null object\n",
      "dtypes: float64(1), int64(2), object(18)\n",
      "memory usage: 1.1+ MB\n"
     ]
    }
   ],
   "source": [
    "data.info()"
   ]
  },
  {
   "cell_type": "code",
   "execution_count": 6,
   "metadata": {},
   "outputs": [
    {
     "data": {
      "text/html": [
       "<div>\n",
       "<style scoped>\n",
       "    .dataframe tbody tr th:only-of-type {\n",
       "        vertical-align: middle;\n",
       "    }\n",
       "\n",
       "    .dataframe tbody tr th {\n",
       "        vertical-align: top;\n",
       "    }\n",
       "\n",
       "    .dataframe thead th {\n",
       "        text-align: right;\n",
       "    }\n",
       "</style>\n",
       "<table border=\"1\" class=\"dataframe\">\n",
       "  <thead>\n",
       "    <tr style=\"text-align: right;\">\n",
       "      <th></th>\n",
       "      <th>SeniorCitizen</th>\n",
       "      <th>tenure</th>\n",
       "      <th>MonthlyCharges</th>\n",
       "    </tr>\n",
       "  </thead>\n",
       "  <tbody>\n",
       "    <tr>\n",
       "      <td>count</td>\n",
       "      <td>7043.000000</td>\n",
       "      <td>7043.000000</td>\n",
       "      <td>6917.000000</td>\n",
       "    </tr>\n",
       "    <tr>\n",
       "      <td>mean</td>\n",
       "      <td>0.162147</td>\n",
       "      <td>32.371149</td>\n",
       "      <td>64.777071</td>\n",
       "    </tr>\n",
       "    <tr>\n",
       "      <td>std</td>\n",
       "      <td>0.368612</td>\n",
       "      <td>24.559481</td>\n",
       "      <td>30.088598</td>\n",
       "    </tr>\n",
       "    <tr>\n",
       "      <td>min</td>\n",
       "      <td>0.000000</td>\n",
       "      <td>0.000000</td>\n",
       "      <td>18.250000</td>\n",
       "    </tr>\n",
       "    <tr>\n",
       "      <td>25%</td>\n",
       "      <td>0.000000</td>\n",
       "      <td>9.000000</td>\n",
       "      <td>35.500000</td>\n",
       "    </tr>\n",
       "    <tr>\n",
       "      <td>50%</td>\n",
       "      <td>0.000000</td>\n",
       "      <td>29.000000</td>\n",
       "      <td>70.350000</td>\n",
       "    </tr>\n",
       "    <tr>\n",
       "      <td>75%</td>\n",
       "      <td>0.000000</td>\n",
       "      <td>55.000000</td>\n",
       "      <td>89.850000</td>\n",
       "    </tr>\n",
       "    <tr>\n",
       "      <td>max</td>\n",
       "      <td>1.000000</td>\n",
       "      <td>72.000000</td>\n",
       "      <td>118.750000</td>\n",
       "    </tr>\n",
       "  </tbody>\n",
       "</table>\n",
       "</div>"
      ],
      "text/plain": [
       "       SeniorCitizen       tenure  MonthlyCharges\n",
       "count    7043.000000  7043.000000     6917.000000\n",
       "mean        0.162147    32.371149       64.777071\n",
       "std         0.368612    24.559481       30.088598\n",
       "min         0.000000     0.000000       18.250000\n",
       "25%         0.000000     9.000000       35.500000\n",
       "50%         0.000000    29.000000       70.350000\n",
       "75%         0.000000    55.000000       89.850000\n",
       "max         1.000000    72.000000      118.750000"
      ]
     },
     "execution_count": 6,
     "metadata": {},
     "output_type": "execute_result"
    }
   ],
   "source": [
    "data.describe()"
   ]
  },
  {
   "cell_type": "markdown",
   "metadata": {},
   "source": [
    "### Data Manupulation"
   ]
  },
  {
   "cell_type": "markdown",
   "metadata": {},
   "source": [
    "Replacing the blank values with NaN"
   ]
  },
  {
   "cell_type": "code",
   "execution_count": 7,
   "metadata": {},
   "outputs": [],
   "source": [
    "data['TotalCharges'] = data[\"TotalCharges\"].replace(\" \",np.nan)\n",
    "data['MonthlyCharges'] = data[\"MonthlyCharges\"].replace(\" \",np.nan)"
   ]
  },
  {
   "cell_type": "markdown",
   "metadata": {},
   "source": [
    "Converting Totalcharges from str to float for further calculations"
   ]
  },
  {
   "cell_type": "code",
   "execution_count": 8,
   "metadata": {},
   "outputs": [],
   "source": [
    "data[\"TotalCharges\"] = data[\"TotalCharges\"].astype(float)"
   ]
  },
  {
   "cell_type": "code",
   "execution_count": 9,
   "metadata": {},
   "outputs": [
    {
     "data": {
      "text/html": [
       "<div>\n",
       "<style scoped>\n",
       "    .dataframe tbody tr th:only-of-type {\n",
       "        vertical-align: middle;\n",
       "    }\n",
       "\n",
       "    .dataframe tbody tr th {\n",
       "        vertical-align: top;\n",
       "    }\n",
       "\n",
       "    .dataframe thead th {\n",
       "        text-align: right;\n",
       "    }\n",
       "</style>\n",
       "<table border=\"1\" class=\"dataframe\">\n",
       "  <thead>\n",
       "    <tr style=\"text-align: right;\">\n",
       "      <th></th>\n",
       "      <th>SeniorCitizen</th>\n",
       "      <th>tenure</th>\n",
       "      <th>MonthlyCharges</th>\n",
       "      <th>TotalCharges</th>\n",
       "    </tr>\n",
       "  </thead>\n",
       "  <tbody>\n",
       "    <tr>\n",
       "      <td>count</td>\n",
       "      <td>7043.000000</td>\n",
       "      <td>7043.000000</td>\n",
       "      <td>6917.000000</td>\n",
       "      <td>6872.000000</td>\n",
       "    </tr>\n",
       "    <tr>\n",
       "      <td>mean</td>\n",
       "      <td>0.162147</td>\n",
       "      <td>32.371149</td>\n",
       "      <td>64.777071</td>\n",
       "      <td>2287.245991</td>\n",
       "    </tr>\n",
       "    <tr>\n",
       "      <td>std</td>\n",
       "      <td>0.368612</td>\n",
       "      <td>24.559481</td>\n",
       "      <td>30.088598</td>\n",
       "      <td>2269.817205</td>\n",
       "    </tr>\n",
       "    <tr>\n",
       "      <td>min</td>\n",
       "      <td>0.000000</td>\n",
       "      <td>0.000000</td>\n",
       "      <td>18.250000</td>\n",
       "      <td>18.800000</td>\n",
       "    </tr>\n",
       "    <tr>\n",
       "      <td>25%</td>\n",
       "      <td>0.000000</td>\n",
       "      <td>9.000000</td>\n",
       "      <td>35.500000</td>\n",
       "      <td>403.300000</td>\n",
       "    </tr>\n",
       "    <tr>\n",
       "      <td>50%</td>\n",
       "      <td>0.000000</td>\n",
       "      <td>29.000000</td>\n",
       "      <td>70.350000</td>\n",
       "      <td>1398.975000</td>\n",
       "    </tr>\n",
       "    <tr>\n",
       "      <td>75%</td>\n",
       "      <td>0.000000</td>\n",
       "      <td>55.000000</td>\n",
       "      <td>89.850000</td>\n",
       "      <td>3802.075000</td>\n",
       "    </tr>\n",
       "    <tr>\n",
       "      <td>max</td>\n",
       "      <td>1.000000</td>\n",
       "      <td>72.000000</td>\n",
       "      <td>118.750000</td>\n",
       "      <td>8684.800000</td>\n",
       "    </tr>\n",
       "  </tbody>\n",
       "</table>\n",
       "</div>"
      ],
      "text/plain": [
       "       SeniorCitizen       tenure  MonthlyCharges  TotalCharges\n",
       "count    7043.000000  7043.000000     6917.000000   6872.000000\n",
       "mean        0.162147    32.371149       64.777071   2287.245991\n",
       "std         0.368612    24.559481       30.088598   2269.817205\n",
       "min         0.000000     0.000000       18.250000     18.800000\n",
       "25%         0.000000     9.000000       35.500000    403.300000\n",
       "50%         0.000000    29.000000       70.350000   1398.975000\n",
       "75%         0.000000    55.000000       89.850000   3802.075000\n",
       "max         1.000000    72.000000      118.750000   8684.800000"
      ]
     },
     "execution_count": 9,
     "metadata": {},
     "output_type": "execute_result"
    }
   ],
   "source": [
    "data.describe()"
   ]
  },
  {
   "cell_type": "markdown",
   "metadata": {},
   "source": [
    "Handling the missing data in TotalCharges and Monthly Charges column. On seeing the dataset, it was understood that, TotalChargers are approximately MonthlyCharges multiplied by the tenure. Hence the missing data for TotalCharges/Monthly Charges has been handled correspondinly"
   ]
  },
  {
   "cell_type": "code",
   "execution_count": 10,
   "metadata": {},
   "outputs": [],
   "source": [
    "for index, row in data.iterrows():\n",
    "    if(pd.isna(row['TotalCharges']) ):\n",
    "        data['TotalCharges'][index]= row['MonthlyCharges']*row['tenure']\n",
    "\n",
    "for index, row in data.iterrows():\n",
    "    if(pd.isna(row['MonthlyCharges'])):\n",
    "        data['MonthlyCharges'][index]= row['TotalCharges']/row['tenure']"
   ]
  },
  {
   "cell_type": "markdown",
   "metadata": {},
   "source": [
    "Grouping Contract and Tenure to see if there is any relationship"
   ]
  },
  {
   "cell_type": "code",
   "execution_count": 11,
   "metadata": {},
   "outputs": [
    {
     "data": {
      "text/html": [
       "<div>\n",
       "<style scoped>\n",
       "    .dataframe tbody tr th:only-of-type {\n",
       "        vertical-align: middle;\n",
       "    }\n",
       "\n",
       "    .dataframe tbody tr th {\n",
       "        vertical-align: top;\n",
       "    }\n",
       "\n",
       "    .dataframe thead th {\n",
       "        text-align: right;\n",
       "    }\n",
       "</style>\n",
       "<table border=\"1\" class=\"dataframe\">\n",
       "  <thead>\n",
       "    <tr style=\"text-align: right;\">\n",
       "      <th></th>\n",
       "      <th>tenure</th>\n",
       "    </tr>\n",
       "    <tr>\n",
       "      <th>Contract</th>\n",
       "      <th></th>\n",
       "    </tr>\n",
       "  </thead>\n",
       "  <tbody>\n",
       "    <tr>\n",
       "      <td>Month-to-month</td>\n",
       "      <td>18.021660</td>\n",
       "    </tr>\n",
       "    <tr>\n",
       "      <td>One year</td>\n",
       "      <td>41.965132</td>\n",
       "    </tr>\n",
       "    <tr>\n",
       "      <td>Two year</td>\n",
       "      <td>56.700180</td>\n",
       "    </tr>\n",
       "  </tbody>\n",
       "</table>\n",
       "</div>"
      ],
      "text/plain": [
       "                   tenure\n",
       "Contract                 \n",
       "Month-to-month  18.021660\n",
       "One year        41.965132\n",
       "Two year        56.700180"
      ]
     },
     "execution_count": 11,
     "metadata": {},
     "output_type": "execute_result"
    }
   ],
   "source": [
    "data[['Contract', 'tenure' ]].groupby('Contract').mean()"
   ]
  },
  {
   "cell_type": "markdown",
   "metadata": {},
   "source": [
    "Handling the missing data in Contract coloumn by assigning \"Month-to-month\" to missing contract field if the tenure is less than 18 months and similarly if the tenure is between 18 and 42, it has been assigned \"One Year\" and those which are greater are assigned \"Two year\""
   ]
  },
  {
   "cell_type": "code",
   "execution_count": 12,
   "metadata": {},
   "outputs": [],
   "source": [
    "for index, row in data.iterrows():\n",
    "    if(pd.isna(row['Contract'])):\n",
    "        if row['tenure'] < 18:\n",
    "            data['Contract'][index] = 'Month-to-month'\n",
    "        elif row['tenure'] >=18 and row['tenure'] < 42:\n",
    "            data['Contract'][index] = 'One year'\n",
    "        elif row['tenure'] >=42:\n",
    "            data['Contract'][index] = 'Two year'"
   ]
  },
  {
   "cell_type": "code",
   "execution_count": 13,
   "metadata": {},
   "outputs": [
    {
     "name": "stdout",
     "output_type": "stream",
     "text": [
      "<class 'pandas.core.frame.DataFrame'>\n",
      "RangeIndex: 7043 entries, 0 to 7042\n",
      "Data columns (total 21 columns):\n",
      "customerID          7043 non-null object\n",
      "gender              7043 non-null object\n",
      "SeniorCitizen       7043 non-null int64\n",
      "Partner             7043 non-null object\n",
      "Dependents          7043 non-null object\n",
      "tenure              7043 non-null int64\n",
      "PhoneService        7043 non-null object\n",
      "MultipleLines       7043 non-null object\n",
      "InternetService     7043 non-null object\n",
      "OnlineSecurity      7043 non-null object\n",
      "OnlineBackup        7043 non-null object\n",
      "DeviceProtection    7043 non-null object\n",
      "TechSupport         7043 non-null object\n",
      "StreamingTV         7043 non-null object\n",
      "StreamingMovies     7043 non-null object\n",
      "Contract            7043 non-null object\n",
      "PaperlessBilling    6996 non-null object\n",
      "PaymentMethod       7043 non-null object\n",
      "MonthlyCharges      7041 non-null float64\n",
      "TotalCharges        7041 non-null float64\n",
      "Churn               7043 non-null object\n",
      "dtypes: float64(2), int64(2), object(17)\n",
      "memory usage: 1.1+ MB\n"
     ]
    }
   ],
   "source": [
    "data.info()"
   ]
  },
  {
   "cell_type": "code",
   "execution_count": 14,
   "metadata": {},
   "outputs": [
    {
     "data": {
      "text/plain": [
       "array(['Yes', 'No', nan], dtype=object)"
      ]
     },
     "execution_count": 14,
     "metadata": {},
     "output_type": "execute_result"
    }
   ],
   "source": [
    "data.PaperlessBilling.unique()"
   ]
  },
  {
   "cell_type": "markdown",
   "metadata": {},
   "source": [
    "Dropping null values from columns having missing data "
   ]
  },
  {
   "cell_type": "code",
   "execution_count": 15,
   "metadata": {},
   "outputs": [],
   "source": [
    "data = data[data[\"PaperlessBilling\"].notnull()]\n",
    "data = data[data[\"MonthlyCharges\"].notnull()]\n",
    "data = data[data[\"TotalCharges\"].notnull()]\n",
    "data = data.reset_index()[data.columns]"
   ]
  },
  {
   "cell_type": "markdown",
   "metadata": {},
   "source": [
    "Getting the list of unique values for the columns"
   ]
  },
  {
   "cell_type": "code",
   "execution_count": 16,
   "metadata": {},
   "outputs": [
    {
     "name": "stdout",
     "output_type": "stream",
     "text": [
      "['No' 'Yes' 'No internet service']\n",
      "['Yes' 'No' 'No internet service']\n",
      "['No' 'Yes' 'No internet service']\n",
      "['No' 'Yes' 'No internet service']\n",
      "['No' 'Yes' 'No internet service']\n",
      "['No' 'Yes' 'No internet service']\n"
     ]
    }
   ],
   "source": [
    "l = ['OnlineSecurity', 'OnlineBackup', 'DeviceProtection','TechSupport','StreamingTV', 'StreamingMovies']\n",
    "for i in l:\n",
    "     print(data[i].unique())"
   ]
  },
  {
   "cell_type": "markdown",
   "metadata": {},
   "source": [
    "Replace No Internet Service feilds to No in the coloumns in list"
   ]
  },
  {
   "cell_type": "code",
   "execution_count": 17,
   "metadata": {},
   "outputs": [],
   "source": [
    "for i in l : \n",
    "    data[i]  = data[i].replace({'No internet service' : 'No'})"
   ]
  },
  {
   "cell_type": "markdown",
   "metadata": {},
   "source": [
    "Making the tenure coloumn to be categorical column for further analysis. This helps to get an understand the relationship of columns with Tenure"
   ]
  },
  {
   "cell_type": "code",
   "execution_count": 18,
   "metadata": {},
   "outputs": [],
   "source": [
    "def tenure_function(data) :\n",
    "    \n",
    "    if data[\"tenure\"] <= 12 :\n",
    "        return \"Tenure_0-12\"\n",
    "    elif (data[\"tenure\"] > 12) & (data[\"tenure\"] <= 24):\n",
    "        return \"Tenure_12-24\"\n",
    "    elif (data[\"tenure\"] > 24) & (data[\"tenure\"] <= 48):\n",
    "        return \"Tenure_24-48\"\n",
    "    elif (data[\"tenure\"] > 48) & (data[\"tenure\"] <= 60):\n",
    "        return \"Tenure_48-60\"\n",
    "    elif data[\"tenure\"] > 60 :\n",
    "        return \"Tenure_gt_60\"\n",
    "data[\"tenure_group\"] = data.apply(lambda data:tenure_function(data),axis = 1)"
   ]
  },
  {
   "cell_type": "markdown",
   "metadata": {},
   "source": [
    "Assigning churn and non churn customers to the respective variables"
   ]
  },
  {
   "cell_type": "code",
   "execution_count": 19,
   "metadata": {},
   "outputs": [],
   "source": [
    "churn     = data[data[\"Churn\"] == \"Yes\"]\n",
    "not_churn = data[data[\"Churn\"] == \"No\"]"
   ]
  },
  {
   "cell_type": "code",
   "execution_count": 20,
   "metadata": {},
   "outputs": [
    {
     "data": {
      "text/html": [
       "<div>\n",
       "<style scoped>\n",
       "    .dataframe tbody tr th:only-of-type {\n",
       "        vertical-align: middle;\n",
       "    }\n",
       "\n",
       "    .dataframe tbody tr th {\n",
       "        vertical-align: top;\n",
       "    }\n",
       "\n",
       "    .dataframe thead th {\n",
       "        text-align: right;\n",
       "    }\n",
       "</style>\n",
       "<table border=\"1\" class=\"dataframe\">\n",
       "  <thead>\n",
       "    <tr style=\"text-align: right;\">\n",
       "      <th></th>\n",
       "      <th>customerID</th>\n",
       "      <th>gender</th>\n",
       "      <th>SeniorCitizen</th>\n",
       "      <th>Partner</th>\n",
       "      <th>Dependents</th>\n",
       "      <th>tenure</th>\n",
       "      <th>PhoneService</th>\n",
       "      <th>MultipleLines</th>\n",
       "      <th>InternetService</th>\n",
       "      <th>OnlineSecurity</th>\n",
       "      <th>...</th>\n",
       "      <th>TechSupport</th>\n",
       "      <th>StreamingTV</th>\n",
       "      <th>StreamingMovies</th>\n",
       "      <th>Contract</th>\n",
       "      <th>PaperlessBilling</th>\n",
       "      <th>PaymentMethod</th>\n",
       "      <th>MonthlyCharges</th>\n",
       "      <th>TotalCharges</th>\n",
       "      <th>Churn</th>\n",
       "      <th>tenure_group</th>\n",
       "    </tr>\n",
       "  </thead>\n",
       "  <tbody>\n",
       "    <tr>\n",
       "      <td>0</td>\n",
       "      <td>7590-VHVEG</td>\n",
       "      <td>Female</td>\n",
       "      <td>0</td>\n",
       "      <td>Yes</td>\n",
       "      <td>No</td>\n",
       "      <td>1</td>\n",
       "      <td>No</td>\n",
       "      <td>No phone service</td>\n",
       "      <td>DSL</td>\n",
       "      <td>No</td>\n",
       "      <td>...</td>\n",
       "      <td>No</td>\n",
       "      <td>No</td>\n",
       "      <td>No</td>\n",
       "      <td>Month-to-month</td>\n",
       "      <td>Yes</td>\n",
       "      <td>Electronic check</td>\n",
       "      <td>29.85</td>\n",
       "      <td>29.85</td>\n",
       "      <td>No</td>\n",
       "      <td>Tenure_0-12</td>\n",
       "    </tr>\n",
       "    <tr>\n",
       "      <td>1</td>\n",
       "      <td>5575-GNVDE</td>\n",
       "      <td>Male</td>\n",
       "      <td>0</td>\n",
       "      <td>No</td>\n",
       "      <td>No</td>\n",
       "      <td>34</td>\n",
       "      <td>Yes</td>\n",
       "      <td>No</td>\n",
       "      <td>DSL</td>\n",
       "      <td>Yes</td>\n",
       "      <td>...</td>\n",
       "      <td>No</td>\n",
       "      <td>No</td>\n",
       "      <td>No</td>\n",
       "      <td>One year</td>\n",
       "      <td>No</td>\n",
       "      <td>Mailed check</td>\n",
       "      <td>56.95</td>\n",
       "      <td>1889.50</td>\n",
       "      <td>No</td>\n",
       "      <td>Tenure_24-48</td>\n",
       "    </tr>\n",
       "    <tr>\n",
       "      <td>2</td>\n",
       "      <td>3668-QPYBK</td>\n",
       "      <td>Male</td>\n",
       "      <td>0</td>\n",
       "      <td>No</td>\n",
       "      <td>No</td>\n",
       "      <td>2</td>\n",
       "      <td>Yes</td>\n",
       "      <td>No</td>\n",
       "      <td>DSL</td>\n",
       "      <td>Yes</td>\n",
       "      <td>...</td>\n",
       "      <td>No</td>\n",
       "      <td>No</td>\n",
       "      <td>No</td>\n",
       "      <td>Month-to-month</td>\n",
       "      <td>Yes</td>\n",
       "      <td>Mailed check</td>\n",
       "      <td>53.85</td>\n",
       "      <td>108.15</td>\n",
       "      <td>Yes</td>\n",
       "      <td>Tenure_0-12</td>\n",
       "    </tr>\n",
       "    <tr>\n",
       "      <td>3</td>\n",
       "      <td>7795-CFOCW</td>\n",
       "      <td>Male</td>\n",
       "      <td>0</td>\n",
       "      <td>No</td>\n",
       "      <td>No</td>\n",
       "      <td>45</td>\n",
       "      <td>No</td>\n",
       "      <td>No phone service</td>\n",
       "      <td>DSL</td>\n",
       "      <td>Yes</td>\n",
       "      <td>...</td>\n",
       "      <td>Yes</td>\n",
       "      <td>No</td>\n",
       "      <td>No</td>\n",
       "      <td>One year</td>\n",
       "      <td>No</td>\n",
       "      <td>Bank transfer (automatic)</td>\n",
       "      <td>42.30</td>\n",
       "      <td>1840.75</td>\n",
       "      <td>No</td>\n",
       "      <td>Tenure_24-48</td>\n",
       "    </tr>\n",
       "    <tr>\n",
       "      <td>4</td>\n",
       "      <td>9237-HQITU</td>\n",
       "      <td>Female</td>\n",
       "      <td>0</td>\n",
       "      <td>No</td>\n",
       "      <td>No</td>\n",
       "      <td>2</td>\n",
       "      <td>Yes</td>\n",
       "      <td>No</td>\n",
       "      <td>Fiber optic</td>\n",
       "      <td>No</td>\n",
       "      <td>...</td>\n",
       "      <td>No</td>\n",
       "      <td>No</td>\n",
       "      <td>No</td>\n",
       "      <td>Month-to-month</td>\n",
       "      <td>Yes</td>\n",
       "      <td>Electronic check</td>\n",
       "      <td>70.70</td>\n",
       "      <td>141.40</td>\n",
       "      <td>Yes</td>\n",
       "      <td>Tenure_0-12</td>\n",
       "    </tr>\n",
       "    <tr>\n",
       "      <td>5</td>\n",
       "      <td>9305-CDSKC</td>\n",
       "      <td>Female</td>\n",
       "      <td>0</td>\n",
       "      <td>No</td>\n",
       "      <td>No</td>\n",
       "      <td>8</td>\n",
       "      <td>Yes</td>\n",
       "      <td>Yes</td>\n",
       "      <td>Fiber optic</td>\n",
       "      <td>No</td>\n",
       "      <td>...</td>\n",
       "      <td>No</td>\n",
       "      <td>Yes</td>\n",
       "      <td>Yes</td>\n",
       "      <td>Month-to-month</td>\n",
       "      <td>Yes</td>\n",
       "      <td>Electronic check</td>\n",
       "      <td>99.65</td>\n",
       "      <td>820.50</td>\n",
       "      <td>Yes</td>\n",
       "      <td>Tenure_0-12</td>\n",
       "    </tr>\n",
       "    <tr>\n",
       "      <td>6</td>\n",
       "      <td>1452-KIOVK</td>\n",
       "      <td>Male</td>\n",
       "      <td>0</td>\n",
       "      <td>No</td>\n",
       "      <td>Yes</td>\n",
       "      <td>22</td>\n",
       "      <td>Yes</td>\n",
       "      <td>Yes</td>\n",
       "      <td>Fiber optic</td>\n",
       "      <td>No</td>\n",
       "      <td>...</td>\n",
       "      <td>No</td>\n",
       "      <td>Yes</td>\n",
       "      <td>No</td>\n",
       "      <td>Month-to-month</td>\n",
       "      <td>Yes</td>\n",
       "      <td>Credit card (automatic)</td>\n",
       "      <td>89.10</td>\n",
       "      <td>1949.40</td>\n",
       "      <td>No</td>\n",
       "      <td>Tenure_12-24</td>\n",
       "    </tr>\n",
       "    <tr>\n",
       "      <td>7</td>\n",
       "      <td>6713-OKOMC</td>\n",
       "      <td>Female</td>\n",
       "      <td>0</td>\n",
       "      <td>No</td>\n",
       "      <td>No</td>\n",
       "      <td>10</td>\n",
       "      <td>No</td>\n",
       "      <td>No phone service</td>\n",
       "      <td>DSL</td>\n",
       "      <td>Yes</td>\n",
       "      <td>...</td>\n",
       "      <td>No</td>\n",
       "      <td>No</td>\n",
       "      <td>No</td>\n",
       "      <td>Month-to-month</td>\n",
       "      <td>No</td>\n",
       "      <td>Mailed check</td>\n",
       "      <td>29.75</td>\n",
       "      <td>301.90</td>\n",
       "      <td>No</td>\n",
       "      <td>Tenure_0-12</td>\n",
       "    </tr>\n",
       "    <tr>\n",
       "      <td>8</td>\n",
       "      <td>7892-POOKP</td>\n",
       "      <td>Female</td>\n",
       "      <td>0</td>\n",
       "      <td>Yes</td>\n",
       "      <td>No</td>\n",
       "      <td>28</td>\n",
       "      <td>Yes</td>\n",
       "      <td>Yes</td>\n",
       "      <td>Fiber optic</td>\n",
       "      <td>No</td>\n",
       "      <td>...</td>\n",
       "      <td>Yes</td>\n",
       "      <td>Yes</td>\n",
       "      <td>Yes</td>\n",
       "      <td>One year</td>\n",
       "      <td>Yes</td>\n",
       "      <td>Electronic check</td>\n",
       "      <td>104.80</td>\n",
       "      <td>3046.05</td>\n",
       "      <td>Yes</td>\n",
       "      <td>Tenure_24-48</td>\n",
       "    </tr>\n",
       "    <tr>\n",
       "      <td>9</td>\n",
       "      <td>6388-TABGU</td>\n",
       "      <td>Male</td>\n",
       "      <td>0</td>\n",
       "      <td>No</td>\n",
       "      <td>Yes</td>\n",
       "      <td>62</td>\n",
       "      <td>Yes</td>\n",
       "      <td>No</td>\n",
       "      <td>DSL</td>\n",
       "      <td>Yes</td>\n",
       "      <td>...</td>\n",
       "      <td>No</td>\n",
       "      <td>No</td>\n",
       "      <td>No</td>\n",
       "      <td>Two year</td>\n",
       "      <td>No</td>\n",
       "      <td>Bank transfer (automatic)</td>\n",
       "      <td>56.15</td>\n",
       "      <td>3487.95</td>\n",
       "      <td>No</td>\n",
       "      <td>Tenure_gt_60</td>\n",
       "    </tr>\n",
       "  </tbody>\n",
       "</table>\n",
       "<p>10 rows × 22 columns</p>\n",
       "</div>"
      ],
      "text/plain": [
       "   customerID  gender  SeniorCitizen Partner Dependents  tenure PhoneService  \\\n",
       "0  7590-VHVEG  Female              0     Yes         No       1           No   \n",
       "1  5575-GNVDE    Male              0      No         No      34          Yes   \n",
       "2  3668-QPYBK    Male              0      No         No       2          Yes   \n",
       "3  7795-CFOCW    Male              0      No         No      45           No   \n",
       "4  9237-HQITU  Female              0      No         No       2          Yes   \n",
       "5  9305-CDSKC  Female              0      No         No       8          Yes   \n",
       "6  1452-KIOVK    Male              0      No        Yes      22          Yes   \n",
       "7  6713-OKOMC  Female              0      No         No      10           No   \n",
       "8  7892-POOKP  Female              0     Yes         No      28          Yes   \n",
       "9  6388-TABGU    Male              0      No        Yes      62          Yes   \n",
       "\n",
       "      MultipleLines InternetService OnlineSecurity  ... TechSupport  \\\n",
       "0  No phone service             DSL             No  ...          No   \n",
       "1                No             DSL            Yes  ...          No   \n",
       "2                No             DSL            Yes  ...          No   \n",
       "3  No phone service             DSL            Yes  ...         Yes   \n",
       "4                No     Fiber optic             No  ...          No   \n",
       "5               Yes     Fiber optic             No  ...          No   \n",
       "6               Yes     Fiber optic             No  ...          No   \n",
       "7  No phone service             DSL            Yes  ...          No   \n",
       "8               Yes     Fiber optic             No  ...         Yes   \n",
       "9                No             DSL            Yes  ...          No   \n",
       "\n",
       "  StreamingTV StreamingMovies        Contract PaperlessBilling  \\\n",
       "0          No              No  Month-to-month              Yes   \n",
       "1          No              No        One year               No   \n",
       "2          No              No  Month-to-month              Yes   \n",
       "3          No              No        One year               No   \n",
       "4          No              No  Month-to-month              Yes   \n",
       "5         Yes             Yes  Month-to-month              Yes   \n",
       "6         Yes              No  Month-to-month              Yes   \n",
       "7          No              No  Month-to-month               No   \n",
       "8         Yes             Yes        One year              Yes   \n",
       "9          No              No        Two year               No   \n",
       "\n",
       "               PaymentMethod MonthlyCharges TotalCharges  Churn  tenure_group  \n",
       "0           Electronic check          29.85        29.85     No   Tenure_0-12  \n",
       "1               Mailed check          56.95      1889.50     No  Tenure_24-48  \n",
       "2               Mailed check          53.85       108.15    Yes   Tenure_0-12  \n",
       "3  Bank transfer (automatic)          42.30      1840.75     No  Tenure_24-48  \n",
       "4           Electronic check          70.70       141.40    Yes   Tenure_0-12  \n",
       "5           Electronic check          99.65       820.50    Yes   Tenure_0-12  \n",
       "6    Credit card (automatic)          89.10      1949.40     No  Tenure_12-24  \n",
       "7               Mailed check          29.75       301.90     No   Tenure_0-12  \n",
       "8           Electronic check         104.80      3046.05    Yes  Tenure_24-48  \n",
       "9  Bank transfer (automatic)          56.15      3487.95     No  Tenure_gt_60  \n",
       "\n",
       "[10 rows x 22 columns]"
      ]
     },
     "execution_count": 20,
     "metadata": {},
     "output_type": "execute_result"
    }
   ],
   "source": [
    "data.head(10)"
   ]
  },
  {
   "cell_type": "markdown",
   "metadata": {},
   "source": [
    "### Exploratory Data Analysis"
   ]
  },
  {
   "cell_type": "markdown",
   "metadata": {},
   "source": [
    "#### Churn Distribution in Data"
   ]
  },
  {
   "cell_type": "code",
   "execution_count": 21,
   "metadata": {
    "scrolled": false
   },
   "outputs": [
    {
     "data": {
      "text/html": [
       "        <script type=\"text/javascript\">\n",
       "        window.PlotlyConfig = {MathJaxConfig: 'local'};\n",
       "        if (window.MathJax) {MathJax.Hub.Config({SVG: {font: \"STIX-Web\"}});}\n",
       "        if (typeof require !== 'undefined') {\n",
       "        require.undef(\"plotly\");\n",
       "        requirejs.config({\n",
       "            paths: {\n",
       "                'plotly': ['https://cdn.plot.ly/plotly-latest.min']\n",
       "            }\n",
       "        });\n",
       "        require(['plotly'], function(Plotly) {\n",
       "            window._Plotly = Plotly;\n",
       "        });\n",
       "        }\n",
       "        </script>\n",
       "        "
      ]
     },
     "metadata": {},
     "output_type": "display_data"
    },
    {
     "data": {
      "application/vnd.plotly.v1+json": {
       "config": {
        "linkText": "Export to plot.ly",
        "plotlyServerURL": "https://plot.ly",
        "responsive": true,
        "showLink": false
       },
       "data": [
        {
         "labels": [
          "No",
          "Yes"
         ],
         "marker": {
          "colors": [
           "royalblue",
           "grey"
          ]
         },
         "type": "pie",
         "uid": "7d847e96-7357-4947-af90-62691240fa91",
         "values": [
          5134,
          1860
         ]
        }
       ],
       "layout": {
        "title": {
         "text": "Churn Distribution"
        }
       }
      },
      "text/html": [
       "<div>\n",
       "        \n",
       "        \n",
       "            <div id=\"3785a999-ca74-4a4a-9c43-f4ed54d761d2\" class=\"plotly-graph-div\" style=\"height:525px; width:100%;\"></div>\n",
       "            <script type=\"text/javascript\">\n",
       "                require([\"plotly\"], function(Plotly) {\n",
       "                    window.PLOTLYENV=window.PLOTLYENV || {};\n",
       "                    window.PLOTLYENV.BASE_URL='https://plot.ly';\n",
       "                    \n",
       "                if (document.getElementById(\"3785a999-ca74-4a4a-9c43-f4ed54d761d2\")) {\n",
       "                    Plotly.newPlot(\n",
       "                        '3785a999-ca74-4a4a-9c43-f4ed54d761d2',\n",
       "                        [{\"labels\": [\"No\", \"Yes\"], \"marker\": {\"colors\": [\"royalblue\", \"grey\"]}, \"type\": \"pie\", \"uid\": \"56102a9c-92c3-45c9-b7b4-33101440d998\", \"values\": [5134, 1860]}],\n",
       "                        {\"title\": {\"text\": \"Churn Distribution\"}},\n",
       "                        {\"showLink\": false, \"linkText\": \"Export to plot.ly\", \"plotlyServerURL\": \"https://plot.ly\", \"responsive\": true}\n",
       "                    ).then(function(){\n",
       "                            \n",
       "var gd = document.getElementById('3785a999-ca74-4a4a-9c43-f4ed54d761d2');\n",
       "var x = new MutationObserver(function (mutations, observer) {{\n",
       "        var display = window.getComputedStyle(gd).display;\n",
       "        if (!display || display === 'none') {{\n",
       "            console.log([gd, 'removed!']);\n",
       "            Plotly.purge(gd);\n",
       "            observer.disconnect();\n",
       "        }}\n",
       "}});\n",
       "\n",
       "// Listen for the removal of the full notebook cells\n",
       "var notebookContainer = gd.closest('#notebook-container');\n",
       "if (notebookContainer) {{\n",
       "    x.observe(notebookContainer, {childList: true});\n",
       "}}\n",
       "\n",
       "// Listen for the clearing of the current output cell\n",
       "var outputEl = gd.closest('.output');\n",
       "if (outputEl) {{\n",
       "    x.observe(outputEl, {childList: true});\n",
       "}}\n",
       "\n",
       "                        })\n",
       "                };\n",
       "                });\n",
       "            </script>\n",
       "        </div>"
      ]
     },
     "metadata": {},
     "output_type": "display_data"
    }
   ],
   "source": [
    "import plotly.offline as py\n",
    "py.init_notebook_mode(connected=True)\n",
    "from plotly.offline import download_plotlyjs, init_notebook_mode, plot, iplot\n",
    "import plotly.graph_objs as go\n",
    "\n",
    "lab = data[\"Churn\"].value_counts().keys().tolist()\n",
    "val = data[\"Churn\"].value_counts().values.tolist()\n",
    "\n",
    "pie = go.Pie(labels = lab,values = val,marker = dict(colors =  ['royalblue' ,'grey']))\n",
    "layout = go.Layout(dict(title = \"Churn Distribution\"))\n",
    "\n",
    "viz_data = [pie]\n",
    "fig = go.Figure(data = viz_data,layout = layout)\n",
    "py.iplot(fig)\n",
    "\n"
   ]
  },
  {
   "cell_type": "markdown",
   "metadata": {},
   "source": [
    "#### Distrubtion of Customer Churn for the Categorical columns"
   ]
  },
  {
   "cell_type": "code",
   "execution_count": 22,
   "metadata": {},
   "outputs": [
    {
     "data": {
      "text/html": [
       "        <script type=\"text/javascript\">\n",
       "        window.PlotlyConfig = {MathJaxConfig: 'local'};\n",
       "        if (window.MathJax) {MathJax.Hub.Config({SVG: {font: \"STIX-Web\"}});}\n",
       "        if (typeof require !== 'undefined') {\n",
       "        require.undef(\"plotly\");\n",
       "        requirejs.config({\n",
       "            paths: {\n",
       "                'plotly': ['https://cdn.plot.ly/plotly-latest.min']\n",
       "            }\n",
       "        });\n",
       "        require(['plotly'], function(Plotly) {\n",
       "            window._Plotly = Plotly;\n",
       "        });\n",
       "        }\n",
       "        </script>\n",
       "        "
      ]
     },
     "metadata": {},
     "output_type": "display_data"
    }
   ],
   "source": [
    "import plotly.offline as py\n",
    "py.init_notebook_mode(connected=True)\n",
    "def pie_charts(column) :\n",
    "    \n",
    "    Pie_Churn = go.Pie(values  = churn[column].value_counts().values.tolist(),\n",
    "                    labels  = churn[column].value_counts().keys().tolist(),\n",
    "                    domain  = dict(x = [0,.48]),\n",
    "                    name    = \"Churn Customers\"\n",
    "                   )\n",
    "    Pie_Nochurn = go.Pie(values  = not_churn[column].value_counts().values.tolist(),\n",
    "                    labels  = not_churn[column].value_counts().keys().tolist(),\n",
    "                    domain  = dict(x = [.52,1]),\n",
    "                    name    = \"Non churn customers\" \n",
    "                   )\n",
    "\n",
    "    layout = go.Layout(dict(title = column + \"Distrubtion of Customer Churn\"))\n",
    "    viz_data = [Pie_Churn,Pie_Nochurn]\n",
    "    fig  = go.Figure(data = viz_data,layout = layout)\n",
    "    py.iplot(fig)"
   ]
  },
  {
   "cell_type": "code",
   "execution_count": 23,
   "metadata": {
    "scrolled": false
   },
   "outputs": [
    {
     "data": {
      "application/vnd.plotly.v1+json": {
       "config": {
        "linkText": "Export to plot.ly",
        "plotlyServerURL": "https://plot.ly",
        "responsive": true,
        "showLink": false
       },
       "data": [
        {
         "domain": {
          "x": [
           0,
           0.48
          ]
         },
         "labels": [
          "Female",
          "Male"
         ],
         "name": "Churn Customers",
         "type": "pie",
         "uid": "a71192fd-dc1d-446f-a813-21a1d1956d85",
         "values": [
          934,
          926
         ]
        },
        {
         "domain": {
          "x": [
           0.52,
           1
          ]
         },
         "labels": [
          "Male",
          "Female"
         ],
         "name": "Non churn customers",
         "type": "pie",
         "uid": "580eeba6-94fc-418d-bd90-e186d2919fad",
         "values": [
          2605,
          2529
         ]
        }
       ],
       "layout": {
        "title": {
         "text": "genderDistrubtion of Customer Churn"
        }
       }
      },
      "text/html": [
       "<div>\n",
       "        \n",
       "        \n",
       "            <div id=\"93559892-2b2a-4383-8e2f-b38184a69e81\" class=\"plotly-graph-div\" style=\"height:525px; width:100%;\"></div>\n",
       "            <script type=\"text/javascript\">\n",
       "                require([\"plotly\"], function(Plotly) {\n",
       "                    window.PLOTLYENV=window.PLOTLYENV || {};\n",
       "                    window.PLOTLYENV.BASE_URL='https://plot.ly';\n",
       "                    \n",
       "                if (document.getElementById(\"93559892-2b2a-4383-8e2f-b38184a69e81\")) {\n",
       "                    Plotly.newPlot(\n",
       "                        '93559892-2b2a-4383-8e2f-b38184a69e81',\n",
       "                        [{\"domain\": {\"x\": [0, 0.48]}, \"labels\": [\"Female\", \"Male\"], \"name\": \"Churn Customers\", \"type\": \"pie\", \"uid\": \"2b8e31b8-0fd8-4dbb-9a0e-73a52e1bd17f\", \"values\": [934, 926]}, {\"domain\": {\"x\": [0.52, 1]}, \"labels\": [\"Male\", \"Female\"], \"name\": \"Non churn customers\", \"type\": \"pie\", \"uid\": \"e89c5218-e021-439e-a7cf-e64bc12f0f13\", \"values\": [2605, 2529]}],\n",
       "                        {\"title\": {\"text\": \"genderDistrubtion of Customer Churn\"}},\n",
       "                        {\"showLink\": false, \"linkText\": \"Export to plot.ly\", \"plotlyServerURL\": \"https://plot.ly\", \"responsive\": true}\n",
       "                    ).then(function(){\n",
       "                            \n",
       "var gd = document.getElementById('93559892-2b2a-4383-8e2f-b38184a69e81');\n",
       "var x = new MutationObserver(function (mutations, observer) {{\n",
       "        var display = window.getComputedStyle(gd).display;\n",
       "        if (!display || display === 'none') {{\n",
       "            console.log([gd, 'removed!']);\n",
       "            Plotly.purge(gd);\n",
       "            observer.disconnect();\n",
       "        }}\n",
       "}});\n",
       "\n",
       "// Listen for the removal of the full notebook cells\n",
       "var notebookContainer = gd.closest('#notebook-container');\n",
       "if (notebookContainer) {{\n",
       "    x.observe(notebookContainer, {childList: true});\n",
       "}}\n",
       "\n",
       "// Listen for the clearing of the current output cell\n",
       "var outputEl = gd.closest('.output');\n",
       "if (outputEl) {{\n",
       "    x.observe(outputEl, {childList: true});\n",
       "}}\n",
       "\n",
       "                        })\n",
       "                };\n",
       "                });\n",
       "            </script>\n",
       "        </div>"
      ]
     },
     "metadata": {},
     "output_type": "display_data"
    },
    {
     "data": {
      "application/vnd.plotly.v1+json": {
       "config": {
        "linkText": "Export to plot.ly",
        "plotlyServerURL": "https://plot.ly",
        "responsive": true,
        "showLink": false
       },
       "data": [
        {
         "domain": {
          "x": [
           0,
           0.48
          ]
         },
         "labels": [
          0,
          1
         ],
         "name": "Churn Customers",
         "type": "pie",
         "uid": "68c3f8d4-4d61-456e-8464-2da3e6fec852",
         "values": [
          1387,
          473
         ]
        },
        {
         "domain": {
          "x": [
           0.52,
           1
          ]
         },
         "labels": [
          0,
          1
         ],
         "name": "Non churn customers",
         "type": "pie",
         "uid": "9a5c5deb-aa62-4a63-b219-20ef29102f0d",
         "values": [
          4472,
          662
         ]
        }
       ],
       "layout": {
        "title": {
         "text": "SeniorCitizenDistrubtion of Customer Churn"
        }
       }
      },
      "text/html": [
       "<div>\n",
       "        \n",
       "        \n",
       "            <div id=\"67b81146-2225-4922-bbfb-ccf94466f9b8\" class=\"plotly-graph-div\" style=\"height:525px; width:100%;\"></div>\n",
       "            <script type=\"text/javascript\">\n",
       "                require([\"plotly\"], function(Plotly) {\n",
       "                    window.PLOTLYENV=window.PLOTLYENV || {};\n",
       "                    window.PLOTLYENV.BASE_URL='https://plot.ly';\n",
       "                    \n",
       "                if (document.getElementById(\"67b81146-2225-4922-bbfb-ccf94466f9b8\")) {\n",
       "                    Plotly.newPlot(\n",
       "                        '67b81146-2225-4922-bbfb-ccf94466f9b8',\n",
       "                        [{\"domain\": {\"x\": [0, 0.48]}, \"labels\": [0, 1], \"name\": \"Churn Customers\", \"type\": \"pie\", \"uid\": \"229090a5-49ce-4d25-8a49-037a2a79d1b1\", \"values\": [1387, 473]}, {\"domain\": {\"x\": [0.52, 1]}, \"labels\": [0, 1], \"name\": \"Non churn customers\", \"type\": \"pie\", \"uid\": \"d6e1705f-8aec-4839-ac38-31dcf78d14c7\", \"values\": [4472, 662]}],\n",
       "                        {\"title\": {\"text\": \"SeniorCitizenDistrubtion of Customer Churn\"}},\n",
       "                        {\"showLink\": false, \"linkText\": \"Export to plot.ly\", \"plotlyServerURL\": \"https://plot.ly\", \"responsive\": true}\n",
       "                    ).then(function(){\n",
       "                            \n",
       "var gd = document.getElementById('67b81146-2225-4922-bbfb-ccf94466f9b8');\n",
       "var x = new MutationObserver(function (mutations, observer) {{\n",
       "        var display = window.getComputedStyle(gd).display;\n",
       "        if (!display || display === 'none') {{\n",
       "            console.log([gd, 'removed!']);\n",
       "            Plotly.purge(gd);\n",
       "            observer.disconnect();\n",
       "        }}\n",
       "}});\n",
       "\n",
       "// Listen for the removal of the full notebook cells\n",
       "var notebookContainer = gd.closest('#notebook-container');\n",
       "if (notebookContainer) {{\n",
       "    x.observe(notebookContainer, {childList: true});\n",
       "}}\n",
       "\n",
       "// Listen for the clearing of the current output cell\n",
       "var outputEl = gd.closest('.output');\n",
       "if (outputEl) {{\n",
       "    x.observe(outputEl, {childList: true});\n",
       "}}\n",
       "\n",
       "                        })\n",
       "                };\n",
       "                });\n",
       "            </script>\n",
       "        </div>"
      ]
     },
     "metadata": {},
     "output_type": "display_data"
    },
    {
     "data": {
      "application/vnd.plotly.v1+json": {
       "config": {
        "linkText": "Export to plot.ly",
        "plotlyServerURL": "https://plot.ly",
        "responsive": true,
        "showLink": false
       },
       "data": [
        {
         "domain": {
          "x": [
           0,
           0.48
          ]
         },
         "labels": [
          "No",
          "Yes"
         ],
         "name": "Churn Customers",
         "type": "pie",
         "uid": "55a187eb-73b5-4c11-8b1b-7cde94abb240",
         "values": [
          1195,
          665
         ]
        },
        {
         "domain": {
          "x": [
           0.52,
           1
          ]
         },
         "labels": [
          "Yes",
          "No"
         ],
         "name": "Non churn customers",
         "type": "pie",
         "uid": "ff85bb33-e405-4cd4-8fa0-3bddf6a87379",
         "values": [
          2711,
          2423
         ]
        }
       ],
       "layout": {
        "title": {
         "text": "PartnerDistrubtion of Customer Churn"
        }
       }
      },
      "text/html": [
       "<div>\n",
       "        \n",
       "        \n",
       "            <div id=\"22303df7-b8ab-4820-abff-5206c0481f9d\" class=\"plotly-graph-div\" style=\"height:525px; width:100%;\"></div>\n",
       "            <script type=\"text/javascript\">\n",
       "                require([\"plotly\"], function(Plotly) {\n",
       "                    window.PLOTLYENV=window.PLOTLYENV || {};\n",
       "                    window.PLOTLYENV.BASE_URL='https://plot.ly';\n",
       "                    \n",
       "                if (document.getElementById(\"22303df7-b8ab-4820-abff-5206c0481f9d\")) {\n",
       "                    Plotly.newPlot(\n",
       "                        '22303df7-b8ab-4820-abff-5206c0481f9d',\n",
       "                        [{\"domain\": {\"x\": [0, 0.48]}, \"labels\": [\"No\", \"Yes\"], \"name\": \"Churn Customers\", \"type\": \"pie\", \"uid\": \"0f9f87da-9f04-4d69-b0b3-b6d99bed2fea\", \"values\": [1195, 665]}, {\"domain\": {\"x\": [0.52, 1]}, \"labels\": [\"Yes\", \"No\"], \"name\": \"Non churn customers\", \"type\": \"pie\", \"uid\": \"ae529af3-5ebc-4dd8-946a-6b54afde0da2\", \"values\": [2711, 2423]}],\n",
       "                        {\"title\": {\"text\": \"PartnerDistrubtion of Customer Churn\"}},\n",
       "                        {\"showLink\": false, \"linkText\": \"Export to plot.ly\", \"plotlyServerURL\": \"https://plot.ly\", \"responsive\": true}\n",
       "                    ).then(function(){\n",
       "                            \n",
       "var gd = document.getElementById('22303df7-b8ab-4820-abff-5206c0481f9d');\n",
       "var x = new MutationObserver(function (mutations, observer) {{\n",
       "        var display = window.getComputedStyle(gd).display;\n",
       "        if (!display || display === 'none') {{\n",
       "            console.log([gd, 'removed!']);\n",
       "            Plotly.purge(gd);\n",
       "            observer.disconnect();\n",
       "        }}\n",
       "}});\n",
       "\n",
       "// Listen for the removal of the full notebook cells\n",
       "var notebookContainer = gd.closest('#notebook-container');\n",
       "if (notebookContainer) {{\n",
       "    x.observe(notebookContainer, {childList: true});\n",
       "}}\n",
       "\n",
       "// Listen for the clearing of the current output cell\n",
       "var outputEl = gd.closest('.output');\n",
       "if (outputEl) {{\n",
       "    x.observe(outputEl, {childList: true});\n",
       "}}\n",
       "\n",
       "                        })\n",
       "                };\n",
       "                });\n",
       "            </script>\n",
       "        </div>"
      ]
     },
     "metadata": {},
     "output_type": "display_data"
    },
    {
     "data": {
      "application/vnd.plotly.v1+json": {
       "config": {
        "linkText": "Export to plot.ly",
        "plotlyServerURL": "https://plot.ly",
        "responsive": true,
        "showLink": false
       },
       "data": [
        {
         "domain": {
          "x": [
           0,
           0.48
          ]
         },
         "labels": [
          "No",
          "Yes"
         ],
         "name": "Churn Customers",
         "type": "pie",
         "uid": "fbdc3aa1-35ac-4450-9890-907eabee7b94",
         "values": [
          1535,
          325
         ]
        },
        {
         "domain": {
          "x": [
           0.52,
           1
          ]
         },
         "labels": [
          "No",
          "Yes"
         ],
         "name": "Non churn customers",
         "type": "pie",
         "uid": "ae5785b8-7401-4149-a167-cdfd31da0d91",
         "values": [
          3363,
          1771
         ]
        }
       ],
       "layout": {
        "title": {
         "text": "DependentsDistrubtion of Customer Churn"
        }
       }
      },
      "text/html": [
       "<div>\n",
       "        \n",
       "        \n",
       "            <div id=\"3d53951a-a7b2-4573-849c-926f7c133ed6\" class=\"plotly-graph-div\" style=\"height:525px; width:100%;\"></div>\n",
       "            <script type=\"text/javascript\">\n",
       "                require([\"plotly\"], function(Plotly) {\n",
       "                    window.PLOTLYENV=window.PLOTLYENV || {};\n",
       "                    window.PLOTLYENV.BASE_URL='https://plot.ly';\n",
       "                    \n",
       "                if (document.getElementById(\"3d53951a-a7b2-4573-849c-926f7c133ed6\")) {\n",
       "                    Plotly.newPlot(\n",
       "                        '3d53951a-a7b2-4573-849c-926f7c133ed6',\n",
       "                        [{\"domain\": {\"x\": [0, 0.48]}, \"labels\": [\"No\", \"Yes\"], \"name\": \"Churn Customers\", \"type\": \"pie\", \"uid\": \"cb43a9be-c2eb-40b2-ac70-0dc6078fde2d\", \"values\": [1535, 325]}, {\"domain\": {\"x\": [0.52, 1]}, \"labels\": [\"No\", \"Yes\"], \"name\": \"Non churn customers\", \"type\": \"pie\", \"uid\": \"61ebbc28-9de1-423a-a706-f01ae2d75e2b\", \"values\": [3363, 1771]}],\n",
       "                        {\"title\": {\"text\": \"DependentsDistrubtion of Customer Churn\"}},\n",
       "                        {\"showLink\": false, \"linkText\": \"Export to plot.ly\", \"plotlyServerURL\": \"https://plot.ly\", \"responsive\": true}\n",
       "                    ).then(function(){\n",
       "                            \n",
       "var gd = document.getElementById('3d53951a-a7b2-4573-849c-926f7c133ed6');\n",
       "var x = new MutationObserver(function (mutations, observer) {{\n",
       "        var display = window.getComputedStyle(gd).display;\n",
       "        if (!display || display === 'none') {{\n",
       "            console.log([gd, 'removed!']);\n",
       "            Plotly.purge(gd);\n",
       "            observer.disconnect();\n",
       "        }}\n",
       "}});\n",
       "\n",
       "// Listen for the removal of the full notebook cells\n",
       "var notebookContainer = gd.closest('#notebook-container');\n",
       "if (notebookContainer) {{\n",
       "    x.observe(notebookContainer, {childList: true});\n",
       "}}\n",
       "\n",
       "// Listen for the clearing of the current output cell\n",
       "var outputEl = gd.closest('.output');\n",
       "if (outputEl) {{\n",
       "    x.observe(outputEl, {childList: true});\n",
       "}}\n",
       "\n",
       "                        })\n",
       "                };\n",
       "                });\n",
       "            </script>\n",
       "        </div>"
      ]
     },
     "metadata": {},
     "output_type": "display_data"
    },
    {
     "data": {
      "application/vnd.plotly.v1+json": {
       "config": {
        "linkText": "Export to plot.ly",
        "plotlyServerURL": "https://plot.ly",
        "responsive": true,
        "showLink": false
       },
       "data": [
        {
         "domain": {
          "x": [
           0,
           0.48
          ]
         },
         "labels": [
          "Yes",
          "No"
         ],
         "name": "Churn Customers",
         "type": "pie",
         "uid": "88e23b19-e6c7-4b51-94aa-f76163f59550",
         "values": [
          1691,
          169
         ]
        },
        {
         "domain": {
          "x": [
           0.52,
           1
          ]
         },
         "labels": [
          "Yes",
          "No"
         ],
         "name": "Non churn customers",
         "type": "pie",
         "uid": "aab54057-ab21-4351-9590-0bcff16fde3b",
         "values": [
          4628,
          506
         ]
        }
       ],
       "layout": {
        "title": {
         "text": "PhoneServiceDistrubtion of Customer Churn"
        }
       }
      },
      "text/html": [
       "<div>\n",
       "        \n",
       "        \n",
       "            <div id=\"53f7c673-80a0-4ce4-b5ad-db3cac1012c6\" class=\"plotly-graph-div\" style=\"height:525px; width:100%;\"></div>\n",
       "            <script type=\"text/javascript\">\n",
       "                require([\"plotly\"], function(Plotly) {\n",
       "                    window.PLOTLYENV=window.PLOTLYENV || {};\n",
       "                    window.PLOTLYENV.BASE_URL='https://plot.ly';\n",
       "                    \n",
       "                if (document.getElementById(\"53f7c673-80a0-4ce4-b5ad-db3cac1012c6\")) {\n",
       "                    Plotly.newPlot(\n",
       "                        '53f7c673-80a0-4ce4-b5ad-db3cac1012c6',\n",
       "                        [{\"domain\": {\"x\": [0, 0.48]}, \"labels\": [\"Yes\", \"No\"], \"name\": \"Churn Customers\", \"type\": \"pie\", \"uid\": \"828ede12-2994-4b22-b138-3248cc211bd4\", \"values\": [1691, 169]}, {\"domain\": {\"x\": [0.52, 1]}, \"labels\": [\"Yes\", \"No\"], \"name\": \"Non churn customers\", \"type\": \"pie\", \"uid\": \"e1219b28-c127-4a6b-932c-21432e231cd7\", \"values\": [4628, 506]}],\n",
       "                        {\"title\": {\"text\": \"PhoneServiceDistrubtion of Customer Churn\"}},\n",
       "                        {\"showLink\": false, \"linkText\": \"Export to plot.ly\", \"plotlyServerURL\": \"https://plot.ly\", \"responsive\": true}\n",
       "                    ).then(function(){\n",
       "                            \n",
       "var gd = document.getElementById('53f7c673-80a0-4ce4-b5ad-db3cac1012c6');\n",
       "var x = new MutationObserver(function (mutations, observer) {{\n",
       "        var display = window.getComputedStyle(gd).display;\n",
       "        if (!display || display === 'none') {{\n",
       "            console.log([gd, 'removed!']);\n",
       "            Plotly.purge(gd);\n",
       "            observer.disconnect();\n",
       "        }}\n",
       "}});\n",
       "\n",
       "// Listen for the removal of the full notebook cells\n",
       "var notebookContainer = gd.closest('#notebook-container');\n",
       "if (notebookContainer) {{\n",
       "    x.observe(notebookContainer, {childList: true});\n",
       "}}\n",
       "\n",
       "// Listen for the clearing of the current output cell\n",
       "var outputEl = gd.closest('.output');\n",
       "if (outputEl) {{\n",
       "    x.observe(outputEl, {childList: true});\n",
       "}}\n",
       "\n",
       "                        })\n",
       "                };\n",
       "                });\n",
       "            </script>\n",
       "        </div>"
      ]
     },
     "metadata": {},
     "output_type": "display_data"
    },
    {
     "data": {
      "application/vnd.plotly.v1+json": {
       "config": {
        "linkText": "Export to plot.ly",
        "plotlyServerURL": "https://plot.ly",
        "responsive": true,
        "showLink": false
       },
       "data": [
        {
         "domain": {
          "x": [
           0,
           0.48
          ]
         },
         "labels": [
          "Yes",
          "No",
          "No phone service"
         ],
         "name": "Churn Customers",
         "type": "pie",
         "uid": "d98a9c1f-104e-47cd-a51e-6be181db999f",
         "values": [
          846,
          845,
          169
         ]
        },
        {
         "domain": {
          "x": [
           0.52,
           1
          ]
         },
         "labels": [
          "No",
          "Yes",
          "No phone service"
         ],
         "name": "Non churn customers",
         "type": "pie",
         "uid": "31ba00fb-d50c-4322-92f1-ada7220da23f",
         "values": [
          2522,
          2106,
          506
         ]
        }
       ],
       "layout": {
        "title": {
         "text": "MultipleLinesDistrubtion of Customer Churn"
        }
       }
      },
      "text/html": [
       "<div>\n",
       "        \n",
       "        \n",
       "            <div id=\"16a8c029-af49-453c-91fa-fb7b3deae939\" class=\"plotly-graph-div\" style=\"height:525px; width:100%;\"></div>\n",
       "            <script type=\"text/javascript\">\n",
       "                require([\"plotly\"], function(Plotly) {\n",
       "                    window.PLOTLYENV=window.PLOTLYENV || {};\n",
       "                    window.PLOTLYENV.BASE_URL='https://plot.ly';\n",
       "                    \n",
       "                if (document.getElementById(\"16a8c029-af49-453c-91fa-fb7b3deae939\")) {\n",
       "                    Plotly.newPlot(\n",
       "                        '16a8c029-af49-453c-91fa-fb7b3deae939',\n",
       "                        [{\"domain\": {\"x\": [0, 0.48]}, \"labels\": [\"Yes\", \"No\", \"No phone service\"], \"name\": \"Churn Customers\", \"type\": \"pie\", \"uid\": \"bcf49e7d-9aea-4841-91b5-68c1e20f0de7\", \"values\": [846, 845, 169]}, {\"domain\": {\"x\": [0.52, 1]}, \"labels\": [\"No\", \"Yes\", \"No phone service\"], \"name\": \"Non churn customers\", \"type\": \"pie\", \"uid\": \"11d73cad-ddcf-4b9a-89be-79f38d024c2f\", \"values\": [2522, 2106, 506]}],\n",
       "                        {\"title\": {\"text\": \"MultipleLinesDistrubtion of Customer Churn\"}},\n",
       "                        {\"showLink\": false, \"linkText\": \"Export to plot.ly\", \"plotlyServerURL\": \"https://plot.ly\", \"responsive\": true}\n",
       "                    ).then(function(){\n",
       "                            \n",
       "var gd = document.getElementById('16a8c029-af49-453c-91fa-fb7b3deae939');\n",
       "var x = new MutationObserver(function (mutations, observer) {{\n",
       "        var display = window.getComputedStyle(gd).display;\n",
       "        if (!display || display === 'none') {{\n",
       "            console.log([gd, 'removed!']);\n",
       "            Plotly.purge(gd);\n",
       "            observer.disconnect();\n",
       "        }}\n",
       "}});\n",
       "\n",
       "// Listen for the removal of the full notebook cells\n",
       "var notebookContainer = gd.closest('#notebook-container');\n",
       "if (notebookContainer) {{\n",
       "    x.observe(notebookContainer, {childList: true});\n",
       "}}\n",
       "\n",
       "// Listen for the clearing of the current output cell\n",
       "var outputEl = gd.closest('.output');\n",
       "if (outputEl) {{\n",
       "    x.observe(outputEl, {childList: true});\n",
       "}}\n",
       "\n",
       "                        })\n",
       "                };\n",
       "                });\n",
       "            </script>\n",
       "        </div>"
      ]
     },
     "metadata": {},
     "output_type": "display_data"
    },
    {
     "data": {
      "application/vnd.plotly.v1+json": {
       "config": {
        "linkText": "Export to plot.ly",
        "plotlyServerURL": "https://plot.ly",
        "responsive": true,
        "showLink": false
       },
       "data": [
        {
         "domain": {
          "x": [
           0,
           0.48
          ]
         },
         "labels": [
          "Fiber optic",
          "DSL",
          "No"
         ],
         "name": "Churn Customers",
         "type": "pie",
         "uid": "9a435388-df46-4c24-b24e-1ec340ed672e",
         "values": [
          1290,
          457,
          113
         ]
        },
        {
         "domain": {
          "x": [
           0.52,
           1
          ]
         },
         "labels": [
          "DSL",
          "Fiber optic",
          "No"
         ],
         "name": "Non churn customers",
         "type": "pie",
         "uid": "096450b9-eb4e-4940-9841-befa0d7156b8",
         "values": [
          1939,
          1795,
          1400
         ]
        }
       ],
       "layout": {
        "title": {
         "text": "InternetServiceDistrubtion of Customer Churn"
        }
       }
      },
      "text/html": [
       "<div>\n",
       "        \n",
       "        \n",
       "            <div id=\"9711065b-2d1a-4366-86fa-e13cb16981e7\" class=\"plotly-graph-div\" style=\"height:525px; width:100%;\"></div>\n",
       "            <script type=\"text/javascript\">\n",
       "                require([\"plotly\"], function(Plotly) {\n",
       "                    window.PLOTLYENV=window.PLOTLYENV || {};\n",
       "                    window.PLOTLYENV.BASE_URL='https://plot.ly';\n",
       "                    \n",
       "                if (document.getElementById(\"9711065b-2d1a-4366-86fa-e13cb16981e7\")) {\n",
       "                    Plotly.newPlot(\n",
       "                        '9711065b-2d1a-4366-86fa-e13cb16981e7',\n",
       "                        [{\"domain\": {\"x\": [0, 0.48]}, \"labels\": [\"Fiber optic\", \"DSL\", \"No\"], \"name\": \"Churn Customers\", \"type\": \"pie\", \"uid\": \"881a06e7-db9c-4491-a36e-03d47ec6a3a5\", \"values\": [1290, 457, 113]}, {\"domain\": {\"x\": [0.52, 1]}, \"labels\": [\"DSL\", \"Fiber optic\", \"No\"], \"name\": \"Non churn customers\", \"type\": \"pie\", \"uid\": \"fbb915fa-75af-493f-be9d-e0189ec9608b\", \"values\": [1939, 1795, 1400]}],\n",
       "                        {\"title\": {\"text\": \"InternetServiceDistrubtion of Customer Churn\"}},\n",
       "                        {\"showLink\": false, \"linkText\": \"Export to plot.ly\", \"plotlyServerURL\": \"https://plot.ly\", \"responsive\": true}\n",
       "                    ).then(function(){\n",
       "                            \n",
       "var gd = document.getElementById('9711065b-2d1a-4366-86fa-e13cb16981e7');\n",
       "var x = new MutationObserver(function (mutations, observer) {{\n",
       "        var display = window.getComputedStyle(gd).display;\n",
       "        if (!display || display === 'none') {{\n",
       "            console.log([gd, 'removed!']);\n",
       "            Plotly.purge(gd);\n",
       "            observer.disconnect();\n",
       "        }}\n",
       "}});\n",
       "\n",
       "// Listen for the removal of the full notebook cells\n",
       "var notebookContainer = gd.closest('#notebook-container');\n",
       "if (notebookContainer) {{\n",
       "    x.observe(notebookContainer, {childList: true});\n",
       "}}\n",
       "\n",
       "// Listen for the clearing of the current output cell\n",
       "var outputEl = gd.closest('.output');\n",
       "if (outputEl) {{\n",
       "    x.observe(outputEl, {childList: true});\n",
       "}}\n",
       "\n",
       "                        })\n",
       "                };\n",
       "                });\n",
       "            </script>\n",
       "        </div>"
      ]
     },
     "metadata": {},
     "output_type": "display_data"
    },
    {
     "data": {
      "application/vnd.plotly.v1+json": {
       "config": {
        "linkText": "Export to plot.ly",
        "plotlyServerURL": "https://plot.ly",
        "responsive": true,
        "showLink": false
       },
       "data": [
        {
         "domain": {
          "x": [
           0,
           0.48
          ]
         },
         "labels": [
          "No",
          "Yes"
         ],
         "name": "Churn Customers",
         "type": "pie",
         "uid": "44610aa2-8530-4101-8e44-2e75b8d3757f",
         "values": [
          1566,
          294
         ]
        },
        {
         "domain": {
          "x": [
           0.52,
           1
          ]
         },
         "labels": [
          "No",
          "Yes"
         ],
         "name": "Non churn customers",
         "type": "pie",
         "uid": "77b3233b-8f74-4193-bd64-2c8e3116851b",
         "values": [
          3425,
          1709
         ]
        }
       ],
       "layout": {
        "title": {
         "text": "OnlineSecurityDistrubtion of Customer Churn"
        }
       }
      },
      "text/html": [
       "<div>\n",
       "        \n",
       "        \n",
       "            <div id=\"edd2fee9-839d-4d90-b9e7-e0fc154e5833\" class=\"plotly-graph-div\" style=\"height:525px; width:100%;\"></div>\n",
       "            <script type=\"text/javascript\">\n",
       "                require([\"plotly\"], function(Plotly) {\n",
       "                    window.PLOTLYENV=window.PLOTLYENV || {};\n",
       "                    window.PLOTLYENV.BASE_URL='https://plot.ly';\n",
       "                    \n",
       "                if (document.getElementById(\"edd2fee9-839d-4d90-b9e7-e0fc154e5833\")) {\n",
       "                    Plotly.newPlot(\n",
       "                        'edd2fee9-839d-4d90-b9e7-e0fc154e5833',\n",
       "                        [{\"domain\": {\"x\": [0, 0.48]}, \"labels\": [\"No\", \"Yes\"], \"name\": \"Churn Customers\", \"type\": \"pie\", \"uid\": \"44c9d22f-7052-4e89-81ef-d1148068bfbf\", \"values\": [1566, 294]}, {\"domain\": {\"x\": [0.52, 1]}, \"labels\": [\"No\", \"Yes\"], \"name\": \"Non churn customers\", \"type\": \"pie\", \"uid\": \"4da3df49-59bb-4e12-93cf-75450495679f\", \"values\": [3425, 1709]}],\n",
       "                        {\"title\": {\"text\": \"OnlineSecurityDistrubtion of Customer Churn\"}},\n",
       "                        {\"showLink\": false, \"linkText\": \"Export to plot.ly\", \"plotlyServerURL\": \"https://plot.ly\", \"responsive\": true}\n",
       "                    ).then(function(){\n",
       "                            \n",
       "var gd = document.getElementById('edd2fee9-839d-4d90-b9e7-e0fc154e5833');\n",
       "var x = new MutationObserver(function (mutations, observer) {{\n",
       "        var display = window.getComputedStyle(gd).display;\n",
       "        if (!display || display === 'none') {{\n",
       "            console.log([gd, 'removed!']);\n",
       "            Plotly.purge(gd);\n",
       "            observer.disconnect();\n",
       "        }}\n",
       "}});\n",
       "\n",
       "// Listen for the removal of the full notebook cells\n",
       "var notebookContainer = gd.closest('#notebook-container');\n",
       "if (notebookContainer) {{\n",
       "    x.observe(notebookContainer, {childList: true});\n",
       "}}\n",
       "\n",
       "// Listen for the clearing of the current output cell\n",
       "var outputEl = gd.closest('.output');\n",
       "if (outputEl) {{\n",
       "    x.observe(outputEl, {childList: true});\n",
       "}}\n",
       "\n",
       "                        })\n",
       "                };\n",
       "                });\n",
       "            </script>\n",
       "        </div>"
      ]
     },
     "metadata": {},
     "output_type": "display_data"
    },
    {
     "data": {
      "application/vnd.plotly.v1+json": {
       "config": {
        "linkText": "Export to plot.ly",
        "plotlyServerURL": "https://plot.ly",
        "responsive": true,
        "showLink": false
       },
       "data": [
        {
         "domain": {
          "x": [
           0,
           0.48
          ]
         },
         "labels": [
          "No",
          "Yes"
         ],
         "name": "Churn Customers",
         "type": "pie",
         "uid": "cfca5bc3-912b-4f71-aed9-7856f5e6902c",
         "values": [
          1339,
          521
         ]
        },
        {
         "domain": {
          "x": [
           0.52,
           1
          ]
         },
         "labels": [
          "No",
          "Yes"
         ],
         "name": "Non churn customers",
         "type": "pie",
         "uid": "83986152-ee30-423f-8cee-9c2e2db3b756",
         "values": [
          3246,
          1888
         ]
        }
       ],
       "layout": {
        "title": {
         "text": "OnlineBackupDistrubtion of Customer Churn"
        }
       }
      },
      "text/html": [
       "<div>\n",
       "        \n",
       "        \n",
       "            <div id=\"ec26c411-ffc8-4772-ad64-3e86a0f7faed\" class=\"plotly-graph-div\" style=\"height:525px; width:100%;\"></div>\n",
       "            <script type=\"text/javascript\">\n",
       "                require([\"plotly\"], function(Plotly) {\n",
       "                    window.PLOTLYENV=window.PLOTLYENV || {};\n",
       "                    window.PLOTLYENV.BASE_URL='https://plot.ly';\n",
       "                    \n",
       "                if (document.getElementById(\"ec26c411-ffc8-4772-ad64-3e86a0f7faed\")) {\n",
       "                    Plotly.newPlot(\n",
       "                        'ec26c411-ffc8-4772-ad64-3e86a0f7faed',\n",
       "                        [{\"domain\": {\"x\": [0, 0.48]}, \"labels\": [\"No\", \"Yes\"], \"name\": \"Churn Customers\", \"type\": \"pie\", \"uid\": \"924d78b5-83ab-4cfb-ad79-373ac68185eb\", \"values\": [1339, 521]}, {\"domain\": {\"x\": [0.52, 1]}, \"labels\": [\"No\", \"Yes\"], \"name\": \"Non churn customers\", \"type\": \"pie\", \"uid\": \"0a3f5f5e-517f-4a7e-baec-cab5b4fc0971\", \"values\": [3246, 1888]}],\n",
       "                        {\"title\": {\"text\": \"OnlineBackupDistrubtion of Customer Churn\"}},\n",
       "                        {\"showLink\": false, \"linkText\": \"Export to plot.ly\", \"plotlyServerURL\": \"https://plot.ly\", \"responsive\": true}\n",
       "                    ).then(function(){\n",
       "                            \n",
       "var gd = document.getElementById('ec26c411-ffc8-4772-ad64-3e86a0f7faed');\n",
       "var x = new MutationObserver(function (mutations, observer) {{\n",
       "        var display = window.getComputedStyle(gd).display;\n",
       "        if (!display || display === 'none') {{\n",
       "            console.log([gd, 'removed!']);\n",
       "            Plotly.purge(gd);\n",
       "            observer.disconnect();\n",
       "        }}\n",
       "}});\n",
       "\n",
       "// Listen for the removal of the full notebook cells\n",
       "var notebookContainer = gd.closest('#notebook-container');\n",
       "if (notebookContainer) {{\n",
       "    x.observe(notebookContainer, {childList: true});\n",
       "}}\n",
       "\n",
       "// Listen for the clearing of the current output cell\n",
       "var outputEl = gd.closest('.output');\n",
       "if (outputEl) {{\n",
       "    x.observe(outputEl, {childList: true});\n",
       "}}\n",
       "\n",
       "                        })\n",
       "                };\n",
       "                });\n",
       "            </script>\n",
       "        </div>"
      ]
     },
     "metadata": {},
     "output_type": "display_data"
    },
    {
     "data": {
      "application/vnd.plotly.v1+json": {
       "config": {
        "linkText": "Export to plot.ly",
        "plotlyServerURL": "https://plot.ly",
        "responsive": true,
        "showLink": false
       },
       "data": [
        {
         "domain": {
          "x": [
           0,
           0.48
          ]
         },
         "labels": [
          "No",
          "Yes"
         ],
         "name": "Churn Customers",
         "type": "pie",
         "uid": "aaca67d2-4a4c-4f56-8028-821173aad301",
         "values": [
          1317,
          543
         ]
        },
        {
         "domain": {
          "x": [
           0.52,
           1
          ]
         },
         "labels": [
          "No",
          "Yes"
         ],
         "name": "Non churn customers",
         "type": "pie",
         "uid": "d7bf00d8-f254-43b8-a599-aa746ff812f7",
         "values": [
          3270,
          1864
         ]
        }
       ],
       "layout": {
        "title": {
         "text": "DeviceProtectionDistrubtion of Customer Churn"
        }
       }
      },
      "text/html": [
       "<div>\n",
       "        \n",
       "        \n",
       "            <div id=\"36507ba5-5a93-4932-821f-479201c1c9b1\" class=\"plotly-graph-div\" style=\"height:525px; width:100%;\"></div>\n",
       "            <script type=\"text/javascript\">\n",
       "                require([\"plotly\"], function(Plotly) {\n",
       "                    window.PLOTLYENV=window.PLOTLYENV || {};\n",
       "                    window.PLOTLYENV.BASE_URL='https://plot.ly';\n",
       "                    \n",
       "                if (document.getElementById(\"36507ba5-5a93-4932-821f-479201c1c9b1\")) {\n",
       "                    Plotly.newPlot(\n",
       "                        '36507ba5-5a93-4932-821f-479201c1c9b1',\n",
       "                        [{\"domain\": {\"x\": [0, 0.48]}, \"labels\": [\"No\", \"Yes\"], \"name\": \"Churn Customers\", \"type\": \"pie\", \"uid\": \"4dd9c2dd-f5d9-4d7f-a7f8-c0345a39b639\", \"values\": [1317, 543]}, {\"domain\": {\"x\": [0.52, 1]}, \"labels\": [\"No\", \"Yes\"], \"name\": \"Non churn customers\", \"type\": \"pie\", \"uid\": \"702cf32d-8e12-4ca1-aa5e-9fc03820a60b\", \"values\": [3270, 1864]}],\n",
       "                        {\"title\": {\"text\": \"DeviceProtectionDistrubtion of Customer Churn\"}},\n",
       "                        {\"showLink\": false, \"linkText\": \"Export to plot.ly\", \"plotlyServerURL\": \"https://plot.ly\", \"responsive\": true}\n",
       "                    ).then(function(){\n",
       "                            \n",
       "var gd = document.getElementById('36507ba5-5a93-4932-821f-479201c1c9b1');\n",
       "var x = new MutationObserver(function (mutations, observer) {{\n",
       "        var display = window.getComputedStyle(gd).display;\n",
       "        if (!display || display === 'none') {{\n",
       "            console.log([gd, 'removed!']);\n",
       "            Plotly.purge(gd);\n",
       "            observer.disconnect();\n",
       "        }}\n",
       "}});\n",
       "\n",
       "// Listen for the removal of the full notebook cells\n",
       "var notebookContainer = gd.closest('#notebook-container');\n",
       "if (notebookContainer) {{\n",
       "    x.observe(notebookContainer, {childList: true});\n",
       "}}\n",
       "\n",
       "// Listen for the clearing of the current output cell\n",
       "var outputEl = gd.closest('.output');\n",
       "if (outputEl) {{\n",
       "    x.observe(outputEl, {childList: true});\n",
       "}}\n",
       "\n",
       "                        })\n",
       "                };\n",
       "                });\n",
       "            </script>\n",
       "        </div>"
      ]
     },
     "metadata": {},
     "output_type": "display_data"
    },
    {
     "data": {
      "application/vnd.plotly.v1+json": {
       "config": {
        "linkText": "Export to plot.ly",
        "plotlyServerURL": "https://plot.ly",
        "responsive": true,
        "showLink": false
       },
       "data": [
        {
         "domain": {
          "x": [
           0,
           0.48
          ]
         },
         "labels": [
          "No",
          "Yes"
         ],
         "name": "Churn Customers",
         "type": "pie",
         "uid": "e5030b01-8b6c-463d-a4b9-80c8905fcbe1",
         "values": [
          1551,
          309
         ]
        },
        {
         "domain": {
          "x": [
           0.52,
           1
          ]
         },
         "labels": [
          "No",
          "Yes"
         ],
         "name": "Non churn customers",
         "type": "pie",
         "uid": "4ef85cd7-b39b-41a1-ba69-5715bd05d2bd",
         "values": [
          3419,
          1715
         ]
        }
       ],
       "layout": {
        "title": {
         "text": "TechSupportDistrubtion of Customer Churn"
        }
       }
      },
      "text/html": [
       "<div>\n",
       "        \n",
       "        \n",
       "            <div id=\"1f70ac3a-ebb3-4cea-9eee-ea0eae4311f6\" class=\"plotly-graph-div\" style=\"height:525px; width:100%;\"></div>\n",
       "            <script type=\"text/javascript\">\n",
       "                require([\"plotly\"], function(Plotly) {\n",
       "                    window.PLOTLYENV=window.PLOTLYENV || {};\n",
       "                    window.PLOTLYENV.BASE_URL='https://plot.ly';\n",
       "                    \n",
       "                if (document.getElementById(\"1f70ac3a-ebb3-4cea-9eee-ea0eae4311f6\")) {\n",
       "                    Plotly.newPlot(\n",
       "                        '1f70ac3a-ebb3-4cea-9eee-ea0eae4311f6',\n",
       "                        [{\"domain\": {\"x\": [0, 0.48]}, \"labels\": [\"No\", \"Yes\"], \"name\": \"Churn Customers\", \"type\": \"pie\", \"uid\": \"9f8949d5-8b74-4d2b-9bd5-5e413576a420\", \"values\": [1551, 309]}, {\"domain\": {\"x\": [0.52, 1]}, \"labels\": [\"No\", \"Yes\"], \"name\": \"Non churn customers\", \"type\": \"pie\", \"uid\": \"34fe2363-6d59-4927-9296-7d7881b4f9d4\", \"values\": [3419, 1715]}],\n",
       "                        {\"title\": {\"text\": \"TechSupportDistrubtion of Customer Churn\"}},\n",
       "                        {\"showLink\": false, \"linkText\": \"Export to plot.ly\", \"plotlyServerURL\": \"https://plot.ly\", \"responsive\": true}\n",
       "                    ).then(function(){\n",
       "                            \n",
       "var gd = document.getElementById('1f70ac3a-ebb3-4cea-9eee-ea0eae4311f6');\n",
       "var x = new MutationObserver(function (mutations, observer) {{\n",
       "        var display = window.getComputedStyle(gd).display;\n",
       "        if (!display || display === 'none') {{\n",
       "            console.log([gd, 'removed!']);\n",
       "            Plotly.purge(gd);\n",
       "            observer.disconnect();\n",
       "        }}\n",
       "}});\n",
       "\n",
       "// Listen for the removal of the full notebook cells\n",
       "var notebookContainer = gd.closest('#notebook-container');\n",
       "if (notebookContainer) {{\n",
       "    x.observe(notebookContainer, {childList: true});\n",
       "}}\n",
       "\n",
       "// Listen for the clearing of the current output cell\n",
       "var outputEl = gd.closest('.output');\n",
       "if (outputEl) {{\n",
       "    x.observe(outputEl, {childList: true});\n",
       "}}\n",
       "\n",
       "                        })\n",
       "                };\n",
       "                });\n",
       "            </script>\n",
       "        </div>"
      ]
     },
     "metadata": {},
     "output_type": "display_data"
    },
    {
     "data": {
      "application/vnd.plotly.v1+json": {
       "config": {
        "linkText": "Export to plot.ly",
        "plotlyServerURL": "https://plot.ly",
        "responsive": true,
        "showLink": false
       },
       "data": [
        {
         "domain": {
          "x": [
           0,
           0.48
          ]
         },
         "labels": [
          "No",
          "Yes"
         ],
         "name": "Churn Customers",
         "type": "pie",
         "uid": "128640d4-dc49-4317-be40-1c7f18ed2762",
         "values": [
          1048,
          812
         ]
        },
        {
         "domain": {
          "x": [
           0.52,
           1
          ]
         },
         "labels": [
          "No",
          "Yes"
         ],
         "name": "Non churn customers",
         "type": "pie",
         "uid": "fa12d037-95d6-4e23-bd58-409526c84f69",
         "values": [
          3254,
          1880
         ]
        }
       ],
       "layout": {
        "title": {
         "text": "StreamingTVDistrubtion of Customer Churn"
        }
       }
      },
      "text/html": [
       "<div>\n",
       "        \n",
       "        \n",
       "            <div id=\"e304e686-d1db-4e68-9558-b1b731ac80ca\" class=\"plotly-graph-div\" style=\"height:525px; width:100%;\"></div>\n",
       "            <script type=\"text/javascript\">\n",
       "                require([\"plotly\"], function(Plotly) {\n",
       "                    window.PLOTLYENV=window.PLOTLYENV || {};\n",
       "                    window.PLOTLYENV.BASE_URL='https://plot.ly';\n",
       "                    \n",
       "                if (document.getElementById(\"e304e686-d1db-4e68-9558-b1b731ac80ca\")) {\n",
       "                    Plotly.newPlot(\n",
       "                        'e304e686-d1db-4e68-9558-b1b731ac80ca',\n",
       "                        [{\"domain\": {\"x\": [0, 0.48]}, \"labels\": [\"No\", \"Yes\"], \"name\": \"Churn Customers\", \"type\": \"pie\", \"uid\": \"4c33f2b6-67db-4172-a57c-5ccd0cdf09fa\", \"values\": [1048, 812]}, {\"domain\": {\"x\": [0.52, 1]}, \"labels\": [\"No\", \"Yes\"], \"name\": \"Non churn customers\", \"type\": \"pie\", \"uid\": \"5096eba2-7cec-479e-9216-d497841301eb\", \"values\": [3254, 1880]}],\n",
       "                        {\"title\": {\"text\": \"StreamingTVDistrubtion of Customer Churn\"}},\n",
       "                        {\"showLink\": false, \"linkText\": \"Export to plot.ly\", \"plotlyServerURL\": \"https://plot.ly\", \"responsive\": true}\n",
       "                    ).then(function(){\n",
       "                            \n",
       "var gd = document.getElementById('e304e686-d1db-4e68-9558-b1b731ac80ca');\n",
       "var x = new MutationObserver(function (mutations, observer) {{\n",
       "        var display = window.getComputedStyle(gd).display;\n",
       "        if (!display || display === 'none') {{\n",
       "            console.log([gd, 'removed!']);\n",
       "            Plotly.purge(gd);\n",
       "            observer.disconnect();\n",
       "        }}\n",
       "}});\n",
       "\n",
       "// Listen for the removal of the full notebook cells\n",
       "var notebookContainer = gd.closest('#notebook-container');\n",
       "if (notebookContainer) {{\n",
       "    x.observe(notebookContainer, {childList: true});\n",
       "}}\n",
       "\n",
       "// Listen for the clearing of the current output cell\n",
       "var outputEl = gd.closest('.output');\n",
       "if (outputEl) {{\n",
       "    x.observe(outputEl, {childList: true});\n",
       "}}\n",
       "\n",
       "                        })\n",
       "                };\n",
       "                });\n",
       "            </script>\n",
       "        </div>"
      ]
     },
     "metadata": {},
     "output_type": "display_data"
    },
    {
     "data": {
      "application/vnd.plotly.v1+json": {
       "config": {
        "linkText": "Export to plot.ly",
        "plotlyServerURL": "https://plot.ly",
        "responsive": true,
        "showLink": false
       },
       "data": [
        {
         "domain": {
          "x": [
           0,
           0.48
          ]
         },
         "labels": [
          "No",
          "Yes"
         ],
         "name": "Churn Customers",
         "type": "pie",
         "uid": "6daaf277-575f-4a76-a93a-a5e4e30ccccf",
         "values": [
          1045,
          815
         ]
        },
        {
         "domain": {
          "x": [
           0.52,
           1
          ]
         },
         "labels": [
          "No",
          "Yes"
         ],
         "name": "Non churn customers",
         "type": "pie",
         "uid": "5db10d52-dbda-4e70-94dc-877a90ce94cc",
         "values": [
          3235,
          1899
         ]
        }
       ],
       "layout": {
        "title": {
         "text": "StreamingMoviesDistrubtion of Customer Churn"
        }
       }
      },
      "text/html": [
       "<div>\n",
       "        \n",
       "        \n",
       "            <div id=\"adfb6730-0133-4818-a480-1ff52ff09bd5\" class=\"plotly-graph-div\" style=\"height:525px; width:100%;\"></div>\n",
       "            <script type=\"text/javascript\">\n",
       "                require([\"plotly\"], function(Plotly) {\n",
       "                    window.PLOTLYENV=window.PLOTLYENV || {};\n",
       "                    window.PLOTLYENV.BASE_URL='https://plot.ly';\n",
       "                    \n",
       "                if (document.getElementById(\"adfb6730-0133-4818-a480-1ff52ff09bd5\")) {\n",
       "                    Plotly.newPlot(\n",
       "                        'adfb6730-0133-4818-a480-1ff52ff09bd5',\n",
       "                        [{\"domain\": {\"x\": [0, 0.48]}, \"labels\": [\"No\", \"Yes\"], \"name\": \"Churn Customers\", \"type\": \"pie\", \"uid\": \"438e31d2-31c1-4103-91f0-2227912327b0\", \"values\": [1045, 815]}, {\"domain\": {\"x\": [0.52, 1]}, \"labels\": [\"No\", \"Yes\"], \"name\": \"Non churn customers\", \"type\": \"pie\", \"uid\": \"bc04cbbc-b237-4314-ba0b-8d31d5a522a8\", \"values\": [3235, 1899]}],\n",
       "                        {\"title\": {\"text\": \"StreamingMoviesDistrubtion of Customer Churn\"}},\n",
       "                        {\"showLink\": false, \"linkText\": \"Export to plot.ly\", \"plotlyServerURL\": \"https://plot.ly\", \"responsive\": true}\n",
       "                    ).then(function(){\n",
       "                            \n",
       "var gd = document.getElementById('adfb6730-0133-4818-a480-1ff52ff09bd5');\n",
       "var x = new MutationObserver(function (mutations, observer) {{\n",
       "        var display = window.getComputedStyle(gd).display;\n",
       "        if (!display || display === 'none') {{\n",
       "            console.log([gd, 'removed!']);\n",
       "            Plotly.purge(gd);\n",
       "            observer.disconnect();\n",
       "        }}\n",
       "}});\n",
       "\n",
       "// Listen for the removal of the full notebook cells\n",
       "var notebookContainer = gd.closest('#notebook-container');\n",
       "if (notebookContainer) {{\n",
       "    x.observe(notebookContainer, {childList: true});\n",
       "}}\n",
       "\n",
       "// Listen for the clearing of the current output cell\n",
       "var outputEl = gd.closest('.output');\n",
       "if (outputEl) {{\n",
       "    x.observe(outputEl, {childList: true});\n",
       "}}\n",
       "\n",
       "                        })\n",
       "                };\n",
       "                });\n",
       "            </script>\n",
       "        </div>"
      ]
     },
     "metadata": {},
     "output_type": "display_data"
    },
    {
     "data": {
      "application/vnd.plotly.v1+json": {
       "config": {
        "linkText": "Export to plot.ly",
        "plotlyServerURL": "https://plot.ly",
        "responsive": true,
        "showLink": false
       },
       "data": [
        {
         "domain": {
          "x": [
           0,
           0.48
          ]
         },
         "labels": [
          "Month-to-month",
          "One year",
          "Two year"
         ],
         "name": "Churn Customers",
         "type": "pie",
         "uid": "77e642aa-9e96-44b6-9854-93acf8c68aaa",
         "values": [
          1639,
          168,
          53
         ]
        },
        {
         "domain": {
          "x": [
           0.52,
           1
          ]
         },
         "labels": [
          "Month-to-month",
          "Two year",
          "One year"
         ],
         "name": "Non churn customers",
         "type": "pie",
         "uid": "33bfb34a-9b96-40cc-9032-fb85a7afdaa0",
         "values": [
          2200,
          1654,
          1280
         ]
        }
       ],
       "layout": {
        "title": {
         "text": "ContractDistrubtion of Customer Churn"
        }
       }
      },
      "text/html": [
       "<div>\n",
       "        \n",
       "        \n",
       "            <div id=\"15966b96-9728-4bdd-b654-48c9d0812808\" class=\"plotly-graph-div\" style=\"height:525px; width:100%;\"></div>\n",
       "            <script type=\"text/javascript\">\n",
       "                require([\"plotly\"], function(Plotly) {\n",
       "                    window.PLOTLYENV=window.PLOTLYENV || {};\n",
       "                    window.PLOTLYENV.BASE_URL='https://plot.ly';\n",
       "                    \n",
       "                if (document.getElementById(\"15966b96-9728-4bdd-b654-48c9d0812808\")) {\n",
       "                    Plotly.newPlot(\n",
       "                        '15966b96-9728-4bdd-b654-48c9d0812808',\n",
       "                        [{\"domain\": {\"x\": [0, 0.48]}, \"labels\": [\"Month-to-month\", \"One year\", \"Two year\"], \"name\": \"Churn Customers\", \"type\": \"pie\", \"uid\": \"e301d5b2-123a-431c-ac1c-650ee00f081b\", \"values\": [1639, 168, 53]}, {\"domain\": {\"x\": [0.52, 1]}, \"labels\": [\"Month-to-month\", \"Two year\", \"One year\"], \"name\": \"Non churn customers\", \"type\": \"pie\", \"uid\": \"8b38d7d6-995c-42ea-abff-f44d72634a53\", \"values\": [2200, 1654, 1280]}],\n",
       "                        {\"title\": {\"text\": \"ContractDistrubtion of Customer Churn\"}},\n",
       "                        {\"showLink\": false, \"linkText\": \"Export to plot.ly\", \"plotlyServerURL\": \"https://plot.ly\", \"responsive\": true}\n",
       "                    ).then(function(){\n",
       "                            \n",
       "var gd = document.getElementById('15966b96-9728-4bdd-b654-48c9d0812808');\n",
       "var x = new MutationObserver(function (mutations, observer) {{\n",
       "        var display = window.getComputedStyle(gd).display;\n",
       "        if (!display || display === 'none') {{\n",
       "            console.log([gd, 'removed!']);\n",
       "            Plotly.purge(gd);\n",
       "            observer.disconnect();\n",
       "        }}\n",
       "}});\n",
       "\n",
       "// Listen for the removal of the full notebook cells\n",
       "var notebookContainer = gd.closest('#notebook-container');\n",
       "if (notebookContainer) {{\n",
       "    x.observe(notebookContainer, {childList: true});\n",
       "}}\n",
       "\n",
       "// Listen for the clearing of the current output cell\n",
       "var outputEl = gd.closest('.output');\n",
       "if (outputEl) {{\n",
       "    x.observe(outputEl, {childList: true});\n",
       "}}\n",
       "\n",
       "                        })\n",
       "                };\n",
       "                });\n",
       "            </script>\n",
       "        </div>"
      ]
     },
     "metadata": {},
     "output_type": "display_data"
    },
    {
     "data": {
      "application/vnd.plotly.v1+json": {
       "config": {
        "linkText": "Export to plot.ly",
        "plotlyServerURL": "https://plot.ly",
        "responsive": true,
        "showLink": false
       },
       "data": [
        {
         "domain": {
          "x": [
           0,
           0.48
          ]
         },
         "labels": [
          "Yes",
          "No"
         ],
         "name": "Churn Customers",
         "type": "pie",
         "uid": "1e283f4e-d402-4e08-9163-0871be9c5cfc",
         "values": [
          1393,
          467
         ]
        },
        {
         "domain": {
          "x": [
           0.52,
           1
          ]
         },
         "labels": [
          "Yes",
          "No"
         ],
         "name": "Non churn customers",
         "type": "pie",
         "uid": "51b770a3-d912-4b13-8b4b-b764f88788b5",
         "values": [
          2747,
          2387
         ]
        }
       ],
       "layout": {
        "title": {
         "text": "PaperlessBillingDistrubtion of Customer Churn"
        }
       }
      },
      "text/html": [
       "<div>\n",
       "        \n",
       "        \n",
       "            <div id=\"5bdcd0fe-f8b3-462e-ba83-39ef1b04dc2a\" class=\"plotly-graph-div\" style=\"height:525px; width:100%;\"></div>\n",
       "            <script type=\"text/javascript\">\n",
       "                require([\"plotly\"], function(Plotly) {\n",
       "                    window.PLOTLYENV=window.PLOTLYENV || {};\n",
       "                    window.PLOTLYENV.BASE_URL='https://plot.ly';\n",
       "                    \n",
       "                if (document.getElementById(\"5bdcd0fe-f8b3-462e-ba83-39ef1b04dc2a\")) {\n",
       "                    Plotly.newPlot(\n",
       "                        '5bdcd0fe-f8b3-462e-ba83-39ef1b04dc2a',\n",
       "                        [{\"domain\": {\"x\": [0, 0.48]}, \"labels\": [\"Yes\", \"No\"], \"name\": \"Churn Customers\", \"type\": \"pie\", \"uid\": \"489d3e91-3523-4d05-bd6f-b6f72c22e672\", \"values\": [1393, 467]}, {\"domain\": {\"x\": [0.52, 1]}, \"labels\": [\"Yes\", \"No\"], \"name\": \"Non churn customers\", \"type\": \"pie\", \"uid\": \"ce2bce2b-ce04-4289-8623-26d61be4f86c\", \"values\": [2747, 2387]}],\n",
       "                        {\"title\": {\"text\": \"PaperlessBillingDistrubtion of Customer Churn\"}},\n",
       "                        {\"showLink\": false, \"linkText\": \"Export to plot.ly\", \"plotlyServerURL\": \"https://plot.ly\", \"responsive\": true}\n",
       "                    ).then(function(){\n",
       "                            \n",
       "var gd = document.getElementById('5bdcd0fe-f8b3-462e-ba83-39ef1b04dc2a');\n",
       "var x = new MutationObserver(function (mutations, observer) {{\n",
       "        var display = window.getComputedStyle(gd).display;\n",
       "        if (!display || display === 'none') {{\n",
       "            console.log([gd, 'removed!']);\n",
       "            Plotly.purge(gd);\n",
       "            observer.disconnect();\n",
       "        }}\n",
       "}});\n",
       "\n",
       "// Listen for the removal of the full notebook cells\n",
       "var notebookContainer = gd.closest('#notebook-container');\n",
       "if (notebookContainer) {{\n",
       "    x.observe(notebookContainer, {childList: true});\n",
       "}}\n",
       "\n",
       "// Listen for the clearing of the current output cell\n",
       "var outputEl = gd.closest('.output');\n",
       "if (outputEl) {{\n",
       "    x.observe(outputEl, {childList: true});\n",
       "}}\n",
       "\n",
       "                        })\n",
       "                };\n",
       "                });\n",
       "            </script>\n",
       "        </div>"
      ]
     },
     "metadata": {},
     "output_type": "display_data"
    },
    {
     "data": {
      "application/vnd.plotly.v1+json": {
       "config": {
        "linkText": "Export to plot.ly",
        "plotlyServerURL": "https://plot.ly",
        "responsive": true,
        "showLink": false
       },
       "data": [
        {
         "domain": {
          "x": [
           0,
           0.48
          ]
         },
         "labels": [
          "Electronic check",
          "Mailed check",
          "Bank transfer (automatic)",
          "Credit card (automatic)"
         ],
         "name": "Churn Customers",
         "type": "pie",
         "uid": "a5218cf4-43a5-4f8e-94e8-27b8d773a153",
         "values": [
          1066,
          306,
          257,
          231
         ]
        },
        {
         "domain": {
          "x": [
           0.52,
           1
          ]
         },
         "labels": [
          "Mailed check",
          "Electronic check",
          "Credit card (automatic)",
          "Bank transfer (automatic)"
         ],
         "name": "Non churn customers",
         "type": "pie",
         "uid": "fb5093e7-c69b-4733-a5b5-c8061724773c",
         "values": [
          1293,
          1285,
          1282,
          1274
         ]
        }
       ],
       "layout": {
        "title": {
         "text": "PaymentMethodDistrubtion of Customer Churn"
        }
       }
      },
      "text/html": [
       "<div>\n",
       "        \n",
       "        \n",
       "            <div id=\"71e7900f-8668-4f3c-86f6-18d008df56eb\" class=\"plotly-graph-div\" style=\"height:525px; width:100%;\"></div>\n",
       "            <script type=\"text/javascript\">\n",
       "                require([\"plotly\"], function(Plotly) {\n",
       "                    window.PLOTLYENV=window.PLOTLYENV || {};\n",
       "                    window.PLOTLYENV.BASE_URL='https://plot.ly';\n",
       "                    \n",
       "                if (document.getElementById(\"71e7900f-8668-4f3c-86f6-18d008df56eb\")) {\n",
       "                    Plotly.newPlot(\n",
       "                        '71e7900f-8668-4f3c-86f6-18d008df56eb',\n",
       "                        [{\"domain\": {\"x\": [0, 0.48]}, \"labels\": [\"Electronic check\", \"Mailed check\", \"Bank transfer (automatic)\", \"Credit card (automatic)\"], \"name\": \"Churn Customers\", \"type\": \"pie\", \"uid\": \"73a9a426-3313-4a64-8a73-fa2fa6490d51\", \"values\": [1066, 306, 257, 231]}, {\"domain\": {\"x\": [0.52, 1]}, \"labels\": [\"Mailed check\", \"Electronic check\", \"Credit card (automatic)\", \"Bank transfer (automatic)\"], \"name\": \"Non churn customers\", \"type\": \"pie\", \"uid\": \"2ceb9c44-c637-46fd-9ac3-f43d282e1a05\", \"values\": [1293, 1285, 1282, 1274]}],\n",
       "                        {\"title\": {\"text\": \"PaymentMethodDistrubtion of Customer Churn\"}},\n",
       "                        {\"showLink\": false, \"linkText\": \"Export to plot.ly\", \"plotlyServerURL\": \"https://plot.ly\", \"responsive\": true}\n",
       "                    ).then(function(){\n",
       "                            \n",
       "var gd = document.getElementById('71e7900f-8668-4f3c-86f6-18d008df56eb');\n",
       "var x = new MutationObserver(function (mutations, observer) {{\n",
       "        var display = window.getComputedStyle(gd).display;\n",
       "        if (!display || display === 'none') {{\n",
       "            console.log([gd, 'removed!']);\n",
       "            Plotly.purge(gd);\n",
       "            observer.disconnect();\n",
       "        }}\n",
       "}});\n",
       "\n",
       "// Listen for the removal of the full notebook cells\n",
       "var notebookContainer = gd.closest('#notebook-container');\n",
       "if (notebookContainer) {{\n",
       "    x.observe(notebookContainer, {childList: true});\n",
       "}}\n",
       "\n",
       "// Listen for the clearing of the current output cell\n",
       "var outputEl = gd.closest('.output');\n",
       "if (outputEl) {{\n",
       "    x.observe(outputEl, {childList: true});\n",
       "}}\n",
       "\n",
       "                        })\n",
       "                };\n",
       "                });\n",
       "            </script>\n",
       "        </div>"
      ]
     },
     "metadata": {},
     "output_type": "display_data"
    },
    {
     "data": {
      "application/vnd.plotly.v1+json": {
       "config": {
        "linkText": "Export to plot.ly",
        "plotlyServerURL": "https://plot.ly",
        "responsive": true,
        "showLink": false
       },
       "data": [
        {
         "domain": {
          "x": [
           0,
           0.48
          ]
         },
         "labels": [
          "Yes"
         ],
         "name": "Churn Customers",
         "type": "pie",
         "uid": "55e956eb-366d-44c2-ba19-c1a4e19bb18d",
         "values": [
          1860
         ]
        },
        {
         "domain": {
          "x": [
           0.52,
           1
          ]
         },
         "labels": [
          "No"
         ],
         "name": "Non churn customers",
         "type": "pie",
         "uid": "1e585db5-f820-4a9a-9351-ca42e8ded892",
         "values": [
          5134
         ]
        }
       ],
       "layout": {
        "title": {
         "text": "ChurnDistrubtion of Customer Churn"
        }
       }
      },
      "text/html": [
       "<div>\n",
       "        \n",
       "        \n",
       "            <div id=\"311b36f2-2c23-4a24-8734-72feb7759717\" class=\"plotly-graph-div\" style=\"height:525px; width:100%;\"></div>\n",
       "            <script type=\"text/javascript\">\n",
       "                require([\"plotly\"], function(Plotly) {\n",
       "                    window.PLOTLYENV=window.PLOTLYENV || {};\n",
       "                    window.PLOTLYENV.BASE_URL='https://plot.ly';\n",
       "                    \n",
       "                if (document.getElementById(\"311b36f2-2c23-4a24-8734-72feb7759717\")) {\n",
       "                    Plotly.newPlot(\n",
       "                        '311b36f2-2c23-4a24-8734-72feb7759717',\n",
       "                        [{\"domain\": {\"x\": [0, 0.48]}, \"labels\": [\"Yes\"], \"name\": \"Churn Customers\", \"type\": \"pie\", \"uid\": \"1072a573-a8b9-44f7-8215-9d977e6413ef\", \"values\": [1860]}, {\"domain\": {\"x\": [0.52, 1]}, \"labels\": [\"No\"], \"name\": \"Non churn customers\", \"type\": \"pie\", \"uid\": \"914a31eb-1325-4cc1-85ba-ffd79dac52ad\", \"values\": [5134]}],\n",
       "                        {\"title\": {\"text\": \"ChurnDistrubtion of Customer Churn\"}},\n",
       "                        {\"showLink\": false, \"linkText\": \"Export to plot.ly\", \"plotlyServerURL\": \"https://plot.ly\", \"responsive\": true}\n",
       "                    ).then(function(){\n",
       "                            \n",
       "var gd = document.getElementById('311b36f2-2c23-4a24-8734-72feb7759717');\n",
       "var x = new MutationObserver(function (mutations, observer) {{\n",
       "        var display = window.getComputedStyle(gd).display;\n",
       "        if (!display || display === 'none') {{\n",
       "            console.log([gd, 'removed!']);\n",
       "            Plotly.purge(gd);\n",
       "            observer.disconnect();\n",
       "        }}\n",
       "}});\n",
       "\n",
       "// Listen for the removal of the full notebook cells\n",
       "var notebookContainer = gd.closest('#notebook-container');\n",
       "if (notebookContainer) {{\n",
       "    x.observe(notebookContainer, {childList: true});\n",
       "}}\n",
       "\n",
       "// Listen for the clearing of the current output cell\n",
       "var outputEl = gd.closest('.output');\n",
       "if (outputEl) {{\n",
       "    x.observe(outputEl, {childList: true});\n",
       "}}\n",
       "\n",
       "                        })\n",
       "                };\n",
       "                });\n",
       "            </script>\n",
       "        </div>"
      ]
     },
     "metadata": {},
     "output_type": "display_data"
    },
    {
     "data": {
      "application/vnd.plotly.v1+json": {
       "config": {
        "linkText": "Export to plot.ly",
        "plotlyServerURL": "https://plot.ly",
        "responsive": true,
        "showLink": false
       },
       "data": [
        {
         "domain": {
          "x": [
           0,
           0.48
          ]
         },
         "labels": [
          "Tenure_0-12",
          "Tenure_24-48",
          "Tenure_12-24",
          "Tenure_48-60",
          "Tenure_gt_60"
         ],
         "name": "Churn Customers",
         "type": "pie",
         "uid": "a4fcc5c5-06b6-47aa-abc2-07989e384e8c",
         "values": [
          1032,
          323,
          292,
          120,
          93
         ]
        },
        {
         "domain": {
          "x": [
           0.52,
           1
          ]
         },
         "labels": [
          "Tenure_gt_60",
          "Tenure_24-48",
          "Tenure_0-12",
          "Tenure_12-24",
          "Tenure_48-60"
         ],
         "name": "Non churn customers",
         "type": "pie",
         "uid": "d0fc7494-cd88-4703-9cea-5b1fc7e488a5",
         "values": [
          1303,
          1260,
          1139,
          725,
          707
         ]
        }
       ],
       "layout": {
        "title": {
         "text": "tenure_groupDistrubtion of Customer Churn"
        }
       }
      },
      "text/html": [
       "<div>\n",
       "        \n",
       "        \n",
       "            <div id=\"df99954f-a9bc-49e4-a487-ce64ac06ee67\" class=\"plotly-graph-div\" style=\"height:525px; width:100%;\"></div>\n",
       "            <script type=\"text/javascript\">\n",
       "                require([\"plotly\"], function(Plotly) {\n",
       "                    window.PLOTLYENV=window.PLOTLYENV || {};\n",
       "                    window.PLOTLYENV.BASE_URL='https://plot.ly';\n",
       "                    \n",
       "                if (document.getElementById(\"df99954f-a9bc-49e4-a487-ce64ac06ee67\")) {\n",
       "                    Plotly.newPlot(\n",
       "                        'df99954f-a9bc-49e4-a487-ce64ac06ee67',\n",
       "                        [{\"domain\": {\"x\": [0, 0.48]}, \"labels\": [\"Tenure_0-12\", \"Tenure_24-48\", \"Tenure_12-24\", \"Tenure_48-60\", \"Tenure_gt_60\"], \"name\": \"Churn Customers\", \"type\": \"pie\", \"uid\": \"63e80f43-7e0a-472f-a387-6cce09677d9e\", \"values\": [1032, 323, 292, 120, 93]}, {\"domain\": {\"x\": [0.52, 1]}, \"labels\": [\"Tenure_gt_60\", \"Tenure_24-48\", \"Tenure_0-12\", \"Tenure_12-24\", \"Tenure_48-60\"], \"name\": \"Non churn customers\", \"type\": \"pie\", \"uid\": \"13e26180-16c7-4d26-bda0-865c10b083e8\", \"values\": [1303, 1260, 1139, 725, 707]}],\n",
       "                        {\"title\": {\"text\": \"tenure_groupDistrubtion of Customer Churn\"}},\n",
       "                        {\"showLink\": false, \"linkText\": \"Export to plot.ly\", \"plotlyServerURL\": \"https://plot.ly\", \"responsive\": true}\n",
       "                    ).then(function(){\n",
       "                            \n",
       "var gd = document.getElementById('df99954f-a9bc-49e4-a487-ce64ac06ee67');\n",
       "var x = new MutationObserver(function (mutations, observer) {{\n",
       "        var display = window.getComputedStyle(gd).display;\n",
       "        if (!display || display === 'none') {{\n",
       "            console.log([gd, 'removed!']);\n",
       "            Plotly.purge(gd);\n",
       "            observer.disconnect();\n",
       "        }}\n",
       "}});\n",
       "\n",
       "// Listen for the removal of the full notebook cells\n",
       "var notebookContainer = gd.closest('#notebook-container');\n",
       "if (notebookContainer) {{\n",
       "    x.observe(notebookContainer, {childList: true});\n",
       "}}\n",
       "\n",
       "// Listen for the clearing of the current output cell\n",
       "var outputEl = gd.closest('.output');\n",
       "if (outputEl) {{\n",
       "    x.observe(outputEl, {childList: true});\n",
       "}}\n",
       "\n",
       "                        })\n",
       "                };\n",
       "                });\n",
       "            </script>\n",
       "        </div>"
      ]
     },
     "metadata": {},
     "output_type": "display_data"
    }
   ],
   "source": [
    "#for all categorical columns plot pie\n",
    "cat_cols   = data.nunique()[data.nunique() < 6].keys().tolist()\n",
    "for i in cat_cols :\n",
    "    pie_charts(i)"
   ]
  },
  {
   "cell_type": "markdown",
   "metadata": {},
   "source": [
    "Side by side bar Charts for the Distrubtion of Customer Churn for Tenure_groups we had created"
   ]
  },
  {
   "cell_type": "code",
   "execution_count": 24,
   "metadata": {},
   "outputs": [
    {
     "data": {
      "text/html": [
       "        <script type=\"text/javascript\">\n",
       "        window.PlotlyConfig = {MathJaxConfig: 'local'};\n",
       "        if (window.MathJax) {MathJax.Hub.Config({SVG: {font: \"STIX-Web\"}});}\n",
       "        if (typeof require !== 'undefined') {\n",
       "        require.undef(\"plotly\");\n",
       "        requirejs.config({\n",
       "            paths: {\n",
       "                'plotly': ['https://cdn.plot.ly/plotly-latest.min']\n",
       "            }\n",
       "        });\n",
       "        require(['plotly'], function(Plotly) {\n",
       "            window._Plotly = Plotly;\n",
       "        });\n",
       "        }\n",
       "        </script>\n",
       "        "
      ]
     },
     "metadata": {},
     "output_type": "display_data"
    },
    {
     "data": {
      "application/vnd.plotly.v1+json": {
       "config": {
        "linkText": "Export to plot.ly",
        "plotlyServerURL": "https://plot.ly",
        "responsive": true,
        "showLink": false
       },
       "data": [
        {
         "name": "Churn Customers",
         "opacity": 0.9,
         "type": "bar",
         "uid": "f7c04b0c-c90e-46b1-a5cb-f5cfb1d8b167",
         "x": [
          "Tenure_0-12",
          "Tenure_24-48",
          "Tenure_12-24",
          "Tenure_48-60",
          "Tenure_gt_60"
         ],
         "y": [
          1032,
          323,
          292,
          120,
          93
         ]
        },
        {
         "name": "Non Churn Customers",
         "opacity": 0.9,
         "type": "bar",
         "uid": "bee143f4-d4ef-41df-8894-e11acb894a11",
         "x": [
          "Tenure_gt_60",
          "Tenure_24-48",
          "Tenure_0-12",
          "Tenure_12-24",
          "Tenure_48-60"
         ],
         "y": [
          1303,
          1260,
          1139,
          725,
          707
         ]
        }
       ],
       "layout": {
        "title": {
         "text": "Customer attrition in tenure groups"
        },
        "xaxis": {
         "gridcolor": "rgb(255, 255, 255)",
         "gridwidth": 2,
         "ticklen": 5,
         "title": {
          "text": "Tenure group"
         },
         "zerolinewidth": 1
        },
        "yaxis": {
         "gridcolor": "rgb(255, 255, 255)",
         "gridwidth": 2,
         "ticklen": 5,
         "title": {
          "text": "Count"
         },
         "zerolinewidth": 1
        }
       }
      },
      "text/html": [
       "<div>\n",
       "        \n",
       "        \n",
       "            <div id=\"b7be5892-04c9-4cef-b98d-ab143046ea07\" class=\"plotly-graph-div\" style=\"height:525px; width:100%;\"></div>\n",
       "            <script type=\"text/javascript\">\n",
       "                require([\"plotly\"], function(Plotly) {\n",
       "                    window.PLOTLYENV=window.PLOTLYENV || {};\n",
       "                    window.PLOTLYENV.BASE_URL='https://plot.ly';\n",
       "                    \n",
       "                if (document.getElementById(\"b7be5892-04c9-4cef-b98d-ab143046ea07\")) {\n",
       "                    Plotly.newPlot(\n",
       "                        'b7be5892-04c9-4cef-b98d-ab143046ea07',\n",
       "                        [{\"name\": \"Churn Customers\", \"opacity\": 0.9, \"type\": \"bar\", \"uid\": \"79e41d2e-7e78-4429-a580-a5be6b92133c\", \"x\": [\"Tenure_0-12\", \"Tenure_24-48\", \"Tenure_12-24\", \"Tenure_48-60\", \"Tenure_gt_60\"], \"y\": [1032, 323, 292, 120, 93]}, {\"name\": \"Non Churn Customers\", \"opacity\": 0.9, \"type\": \"bar\", \"uid\": \"6a9ed62d-6944-4334-ad98-99fa1bb6ebf5\", \"x\": [\"Tenure_gt_60\", \"Tenure_24-48\", \"Tenure_0-12\", \"Tenure_12-24\", \"Tenure_48-60\"], \"y\": [1303, 1260, 1139, 725, 707]}],\n",
       "                        {\"title\": {\"text\": \"Customer attrition in tenure groups\"}, \"xaxis\": {\"gridcolor\": \"rgb(255, 255, 255)\", \"gridwidth\": 2, \"ticklen\": 5, \"title\": {\"text\": \"Tenure group\"}, \"zerolinewidth\": 1}, \"yaxis\": {\"gridcolor\": \"rgb(255, 255, 255)\", \"gridwidth\": 2, \"ticklen\": 5, \"title\": {\"text\": \"Count\"}, \"zerolinewidth\": 1}},\n",
       "                        {\"showLink\": false, \"linkText\": \"Export to plot.ly\", \"plotlyServerURL\": \"https://plot.ly\", \"responsive\": true}\n",
       "                    ).then(function(){\n",
       "                            \n",
       "var gd = document.getElementById('b7be5892-04c9-4cef-b98d-ab143046ea07');\n",
       "var x = new MutationObserver(function (mutations, observer) {{\n",
       "        var display = window.getComputedStyle(gd).display;\n",
       "        if (!display || display === 'none') {{\n",
       "            console.log([gd, 'removed!']);\n",
       "            Plotly.purge(gd);\n",
       "            observer.disconnect();\n",
       "        }}\n",
       "}});\n",
       "\n",
       "// Listen for the removal of the full notebook cells\n",
       "var notebookContainer = gd.closest('#notebook-container');\n",
       "if (notebookContainer) {{\n",
       "    x.observe(notebookContainer, {childList: true});\n",
       "}}\n",
       "\n",
       "// Listen for the clearing of the current output cell\n",
       "var outputEl = gd.closest('.output');\n",
       "if (outputEl) {{\n",
       "    x.observe(outputEl, {childList: true});\n",
       "}}\n",
       "\n",
       "                        })\n",
       "                };\n",
       "                });\n",
       "            </script>\n",
       "        </div>"
      ]
     },
     "metadata": {},
     "output_type": "display_data"
    }
   ],
   "source": [
    "import plotly.offline as py\n",
    "py.init_notebook_mode(connected=True)\n",
    "tenure_churn =  churn[\"tenure_group\"].value_counts().reset_index()\n",
    "tenure_churn.columns  = [\"tenure_group\",\"count\"]\n",
    "tenure_Nochurn = not_churn[\"tenure_group\"].value_counts().reset_index()\n",
    "tenure_Nochurn.columns = [\"tenure_group\",\"count\"]\n",
    "\n",
    "Bar_Churn = go.Bar(x = tenure_churn[\"tenure_group\"]  , y = tenure_churn[\"count\"],\n",
    "                name = \"Churn Customers\",opacity = .9)\n",
    "\n",
    "Bar_NoChurn = go.Bar(x = tenure_Nochurn[\"tenure_group\"] , y = tenure_Nochurn[\"count\"],\n",
    "                name = \"Non Churn Customers\",opacity = .9)\n",
    "\n",
    "layout = go.Layout(dict(title = \"Customer attrition in tenure groups\",\n",
    "                        xaxis = dict(gridcolor = 'rgb(255, 255, 255)',\n",
    "                                     title = \"Tenure group\",\n",
    "                                     zerolinewidth=1,ticklen=5,gridwidth=2),\n",
    "                         yaxis = dict(gridcolor = 'rgb(255, 255, 255)',\n",
    "                                     title = \"Count\",\n",
    "                                     zerolinewidth=1,ticklen=5,gridwidth=2)))\n",
    "viz_data = [Bar_Churn,Bar_NoChurn]\n",
    "fig  = go.Figure(data=viz_data,layout=layout)\n",
    "py.iplot(fig)"
   ]
  },
  {
   "cell_type": "markdown",
   "metadata": {},
   "source": [
    "These visulaizations gives us a bit of the understanding of what is affecting churn. For example, from the pie charts, we can see that Gender doesnt helps us figure out if a customer churns, whereas the variable PhoneService distrubtions has a significant contirbution in finidng out the customer churn. Similarly, these side Bar charts, help us understand that people who stay for more than 60 months churn a little and those whose tenure is less than 12, likly churn."
   ]
  },
  {
   "cell_type": "markdown",
   "metadata": {},
   "source": [
    "# Part 3\n",
    "\n",
    "# Data preprocessing & Feature Engineering\n",
    "## Scaling the data"
   ]
  },
  {
   "cell_type": "markdown",
   "metadata": {},
   "source": [
    "Scaling the data before we move into modelling. We have used minmax scaler for scaling. From the describe tabulation above, we see that the standard deviation and mean for the features are relatively close, i.e small standard deviation. MinMax scaler has been used to get all the data in the columns between 0 and 1. This helps in avoid any features to dominate the model."
   ]
  },
  {
   "cell_type": "code",
   "execution_count": 25,
   "metadata": {},
   "outputs": [],
   "source": [
    "from sklearn.preprocessing import LabelEncoder\n",
    "from sklearn.preprocessing import MinMaxScaler\n",
    "\n",
    "#Getting the data in thier respective data type column\n",
    "ID     = ['customerID']\n",
    "Target = ['Churn']\n",
    "cat_cols   = data.nunique()[data.nunique() < 6].keys().tolist()\n",
    "Binary_col  = data.nunique()[data.nunique() == 2].keys().tolist()\n",
    "catagorical_col = []\n",
    "numerical_col = []\n",
    "Multiple_category_cols = []\n",
    "for x in cat_cols:\n",
    "    if x not in Target:\n",
    "        catagorical_col.append(x)\n",
    "for x in data.columns:\n",
    "    if x not in Target+ID+cat_cols:\n",
    "        numerical_col.append(x)\n",
    "for x in catagorical_col:\n",
    "    if x not in Binary_col:\n",
    "        Multiple_category_cols.append(x)    \n",
    "        \n",
    "#Label encoding Binary columns\n",
    "le = LabelEncoder()\n",
    "for i in Binary_col :\n",
    "    data[i] = le.fit_transform(data[i])\n",
    "    \n",
    "#Duplicating columns for multi value columns\n",
    "data = pd.get_dummies(data = data,columns = Multiple_category_cols )\n",
    "\n",
    "#Scaling Numerical columns\n",
    "scaler = MinMaxScaler()\n",
    "scaled = scaler.fit_transform(data[numerical_col])\n",
    "scaled = pd.DataFrame(scaled,columns=numerical_col)\n",
    "\n",
    "\n",
    "#dropping original values merging scaled values for numerical columns\n",
    "df_telcom_og = data.copy()\n",
    "data = data.drop(columns = numerical_col,axis = 1)\n",
    "data = data.merge(scaled,left_index=True,right_index=True,how = \"left\")\n"
   ]
  },
  {
   "cell_type": "markdown",
   "metadata": {},
   "source": [
    "# Part 4\n",
    "\n",
    "# Classification : Models"
   ]
  },
  {
   "cell_type": "markdown",
   "metadata": {},
   "source": [
    "The following classification has been used for the dataset\n",
    "* Logistic Regression\n",
    "* K Nearest Neighbor\n",
    "* Decision Tree  \n",
    "* Linear SVM\n",
    "* RBF Kernal SVM\n",
    "* Poly Kernal SVM\n",
    "  \n",
    "\n",
    "\n",
    "Here, we are considering F1 score for evaluation as good F1 score states that there is low false positives and low false negatives, So for a Churn model, we need to indentify most of the churning customers\n",
    "\n"
   ]
  },
  {
   "cell_type": "code",
   "execution_count": 26,
   "metadata": {},
   "outputs": [],
   "source": [
    "from sklearn.model_selection import train_test_split\n",
    "cols    = [i for i in data.columns if i not in ID+Target]\n",
    "X = data[cols]\n",
    "Y = data[Target]\n",
    "X_train,X_test,y_train,y_test = train_test_split(X,Y,test_size = .25,random_state = 0)"
   ]
  },
  {
   "cell_type": "markdown",
   "metadata": {},
   "source": [
    "# 1. Logistic Regression"
   ]
  },
  {
   "cell_type": "code",
   "execution_count": 27,
   "metadata": {},
   "outputs": [],
   "source": [
    "from sklearn.linear_model import LogisticRegression\n",
    "from sklearn.model_selection import GridSearchCV\n",
    "from sklearn.model_selection import cross_val_score\n",
    "from sklearn.metrics import confusion_matrix,accuracy_score,classification_report\n",
    "logreg = LogisticRegression(penalty='l2',random_state=0)\n",
    "param_grid = {'C': [0.001, 0.01, 0.1, 1, 10, 100] }\n",
    "grid_log_reg = GridSearchCV(LogisticRegression(penalty='l2',random_state=0),param_grid,cv=3)\n",
    "grid_log_reg.fit(X_train, y_train)\n",
    "scores = cross_val_score(logreg,X_train,y_train)\n",
    "\n"
   ]
  },
  {
   "cell_type": "code",
   "execution_count": 28,
   "metadata": {},
   "outputs": [
    {
     "name": "stdout",
     "output_type": "stream",
     "text": [
      "Cross-validation scores: [0.8004574  0.80263158 0.80377574]\n",
      "Average cross-validation score: 0.80\n",
      "Logistic Regression Training Score:  0.8062917063870353\n",
      "Logistic Regression Testing Score:  0.8090337335620355\n",
      "Best Parameters for Logistic Regression:  {'C': 1}\n"
     ]
    }
   ],
   "source": [
    "print(\"Cross-validation scores: {}\".format(scores))\n",
    "print(\"Average cross-validation score: {:.2f}\".format(scores.mean()))\n",
    "print(\"Logistic Regression Training Score: \", grid_log_reg.score(X_train, y_train))\n",
    "print(\"Logistic Regression Testing Score: \", grid_log_reg.score(X_test, y_test))\n",
    "print(\"Best Parameters for Logistic Regression: \", grid_log_reg.best_params_)\n",
    "cv_logit = \"Average cross-validation score: {:.2f}\".format(scores.mean())\n",
    "param_logit = grid_log_reg.best_params_\n"
   ]
  },
  {
   "cell_type": "code",
   "execution_count": 29,
   "metadata": {},
   "outputs": [],
   "source": [
    "train_score_list = []\n",
    "test_score_list = []\n",
    "x_range = [0.001, 0.01, 0.1, 1, 10, 100]\n",
    "\n",
    "for alpha in x_range: \n",
    "    model = LogisticRegression(C=alpha, random_state=0)\n",
    "    model.fit(X_train,y_train)\n",
    "    train_score_list.append(model.score(X_train,y_train))\n",
    "    test_score_list.append(model.score(X_test, y_test))"
   ]
  },
  {
   "cell_type": "code",
   "execution_count": 30,
   "metadata": {},
   "outputs": [
    {
     "data": {
      "text/plain": [
       "Text(0.5, 0, 'C')"
      ]
     },
     "execution_count": 30,
     "metadata": {},
     "output_type": "execute_result"
    },
    {
     "data": {
      "image/png": "[encoded data removed]",
      "text/plain": [
       "<Figure size 432x288 with 1 Axes>"
      ]
     },
     "metadata": {
      "needs_background": "light"
     },
     "output_type": "display_data"
    }
   ],
   "source": [
    "plt.plot(x_range, train_score_list, c = 'g', label = 'Train Score')\n",
    "plt.plot(x_range, test_score_list, c = 'b', label = 'Test Score')\n",
    "plt.xscale('log')\n",
    "plt.legend(loc = 3)\n",
    "plt.xlabel('C')"
   ]
  },
  {
   "cell_type": "markdown",
   "metadata": {},
   "source": [
    "Regularization parameter: 1 and penalty l2 seems to give us a better accuracy"
   ]
  },
  {
   "cell_type": "code",
   "execution_count": 31,
   "metadata": {},
   "outputs": [],
   "source": [
    "logit = LogisticRegression(penalty = 'l2', C = 1, random_state=0)\n",
    "logit.fit(X_train, y_train)\n",
    "logit_predict = logit.predict(X_test)\n"
   ]
  },
  {
   "cell_type": "code",
   "execution_count": 32,
   "metadata": {},
   "outputs": [
    {
     "name": "stdout",
     "output_type": "stream",
     "text": [
      "              precision    recall  f1-score   support\n",
      "\n",
      "           0       0.85      0.91      0.87      1285\n",
      "           1       0.67      0.54      0.60       464\n",
      "\n",
      "    accuracy                           0.81      1749\n",
      "   macro avg       0.76      0.72      0.74      1749\n",
      "weighted avg       0.80      0.81      0.80      1749\n",
      "\n"
     ]
    }
   ],
   "source": [
    "print(classification_report(y_test,logit_predict))\n",
    "lr = classification_report(y_test,logit_predict)\n",
    "\n"
   ]
  },
  {
   "cell_type": "markdown",
   "metadata": {},
   "source": [
    "# 2. KNN Classifier\n"
   ]
  },
  {
   "cell_type": "code",
   "execution_count": 33,
   "metadata": {},
   "outputs": [],
   "source": [
    "from sklearn.neighbors import KNeighborsClassifier\n",
    "knn = KNeighborsClassifier()\n",
    "param_grid = {'n_neighbors': np.arange(2, 20)}\n",
    "grid_knn = GridSearchCV(knn, param_grid=param_grid, cv = 3)\n",
    "grid_knn.fit(X_train, y_train)\n",
    "scores = cross_val_score(knn,X_train,y_train)"
   ]
  },
  {
   "cell_type": "code",
   "execution_count": 34,
   "metadata": {},
   "outputs": [
    {
     "name": "stdout",
     "output_type": "stream",
     "text": [
      "Cross-validation scores: [0.77015437 0.77173913 0.76659039]\n",
      "Average cross-validation score: 0.77\n",
      "KNN Training Score:  0.8099142040038132\n",
      "KNN Testing Score:  0.7930245854774156\n",
      "KNN Best Parameters:  {'n_neighbors': 18}\n"
     ]
    }
   ],
   "source": [
    "print(\"Cross-validation scores: {}\".format(scores))\n",
    "print(\"Average cross-validation score: {:.2f}\".format(scores.mean()))\n",
    "print(\"KNN Training Score: \",grid_knn.score(X_train, y_train))\n",
    "print(\"KNN Testing Score: \", grid_knn.score(X_test, y_test))\n",
    "print(\"KNN Best Parameters: \", grid_knn.best_params_)\n",
    "cv_Knn = \"Average cross-validation score: {:.2f}\".format(scores.mean())\n",
    "param_Knn = grid_knn.best_params_"
   ]
  },
  {
   "cell_type": "code",
   "execution_count": 35,
   "metadata": {},
   "outputs": [],
   "source": [
    "from sklearn.neighbors import KNeighborsClassifier\n",
    "\n",
    "train_score_array = []\n",
    "test_score_array = []\n",
    "\n",
    "for k in range(1,20):\n",
    "    knn = KNeighborsClassifier(k)\n",
    "    knn.fit(X_train, y_train)\n",
    "    train_score_array.append(knn.score(X_train, y_train))\n",
    "    test_score_array.append(knn.score(X_test, y_test))"
   ]
  },
  {
   "cell_type": "code",
   "execution_count": 36,
   "metadata": {},
   "outputs": [
    {
     "data": {
      "text/plain": [
       "<matplotlib.legend.Legend at 0x158a215f828>"
      ]
     },
     "execution_count": 36,
     "metadata": {},
     "output_type": "execute_result"
    },
    {
     "data": {
      "image/png": "[encoded data removed]",
      "text/plain": [
       "<Figure size 432x288 with 1 Axes>"
      ]
     },
     "metadata": {
      "needs_background": "light"
     },
     "output_type": "display_data"
    }
   ],
   "source": [
    "x_axis = range(1,20)\n",
    "%matplotlib inline\n",
    "plt.plot(x_axis, train_score_array, label = 'Train Score', c = 'g')\n",
    "plt.plot(x_axis, test_score_array, label = 'Test Score', c='b')\n",
    "plt.xlabel('k')\n",
    "plt.ylabel('Accuracy')\n",
    "plt.legend()"
   ]
  },
  {
   "cell_type": "markdown",
   "metadata": {},
   "source": [
    "K Value of 18 seems to give us a better accuracy"
   ]
  },
  {
   "cell_type": "code",
   "execution_count": 37,
   "metadata": {},
   "outputs": [],
   "source": [
    "knn = KNeighborsClassifier(18)\n",
    "knn.fit(X_train, y_train)\n",
    "Knn_predict = knn.predict(X_test)\n"
   ]
  },
  {
   "cell_type": "code",
   "execution_count": 38,
   "metadata": {},
   "outputs": [
    {
     "name": "stdout",
     "output_type": "stream",
     "text": [
      "              precision    recall  f1-score   support\n",
      "\n",
      "           0       0.84      0.89      0.86      1285\n",
      "           1       0.64      0.51      0.57       464\n",
      "\n",
      "    accuracy                           0.79      1749\n",
      "   macro avg       0.74      0.70      0.72      1749\n",
      "weighted avg       0.78      0.79      0.79      1749\n",
      "\n"
     ]
    }
   ],
   "source": [
    "print(classification_report(y_test,Knn_predict))\n",
    "knb = classification_report(y_test,Knn_predict)\n"
   ]
  },
  {
   "cell_type": "markdown",
   "metadata": {},
   "source": [
    "# 3. Decision Tree"
   ]
  },
  {
   "cell_type": "code",
   "execution_count": 39,
   "metadata": {},
   "outputs": [],
   "source": [
    "from sklearn.tree import DecisionTreeClassifier\n",
    "param_grid = {'max_depth': np.arange(6, 15)}\n",
    "dt = DecisionTreeClassifier(random_state=0)\n",
    "grid_tree = GridSearchCV(dt, param_grid,cv = 3)\n",
    "grid_tree.fit(X_train, y_train)\n",
    "scores = cross_val_score(dt,X_train,y_train)\n"
   ]
  },
  {
   "cell_type": "code",
   "execution_count": 40,
   "metadata": {},
   "outputs": [
    {
     "name": "stdout",
     "output_type": "stream",
     "text": [
      "Cross-validation scores: [0.72498571 0.74370709 0.71224256]\n",
      "Average cross-validation score: 0.73\n",
      "Decision Tree Training Score:  0.8120114394661583\n",
      "Decision Tree Testing Score:  0.7747284162378502\n",
      "Decision Tree Best Parameters :  {'max_depth': 6}\n"
     ]
    }
   ],
   "source": [
    "print(\"Cross-validation scores: {}\".format(scores))\n",
    "print(\"Average cross-validation score: {:.2f}\".format(scores.mean()))\n",
    "print(\"Decision Tree Training Score: \", grid_tree.score(X_train, y_train))\n",
    "print(\"Decision Tree Testing Score: \", grid_tree.score(X_test, y_test))\n",
    "print(\"Decision Tree Best Parameters : \", grid_tree.best_params_)\n",
    "cv_dtree = \"Average cross-validation score: {:.2f}\".format(scores.mean())\n",
    "param_dtree = grid_tree.best_params_"
   ]
  },
  {
   "cell_type": "code",
   "execution_count": 41,
   "metadata": {},
   "outputs": [],
   "source": [
    "from sklearn.tree import DecisionTreeClassifier\n",
    "\n",
    "train_score_list = []\n",
    "test_score_list = []\n",
    "x_range = np.arange(6, 15)\n",
    "\n",
    "for alpha in x_range: \n",
    "    model = DecisionTreeClassifier(max_depth=alpha, random_state=0)\n",
    "    model.fit(X_train,y_train)\n",
    "    train_score_list.append(model.score(X_train,y_train))\n",
    "    test_score_list.append(model.score(X_test, y_test))"
   ]
  },
  {
   "cell_type": "code",
   "execution_count": 42,
   "metadata": {},
   "outputs": [
    {
     "data": {
      "text/plain": [
       "Text(0.5, 0, 'Max Depth')"
      ]
     },
     "execution_count": 42,
     "metadata": {},
     "output_type": "execute_result"
    },
    {
     "data": {
      "image/png": "[encoded data removed]",
      "text/plain": [
       "<Figure size 432x288 with 1 Axes>"
      ]
     },
     "metadata": {
      "needs_background": "light"
     },
     "output_type": "display_data"
    }
   ],
   "source": [
    "%matplotlib inline\n",
    "plt.plot(x_range, train_score_list, c = 'g', label = 'Train Score')\n",
    "plt.plot(x_range, test_score_list, c = 'b', label = 'Test Score')\n",
    "plt.xscale('linear')\n",
    "plt.legend(loc = 1)\n",
    "plt.xlabel('Max Depth')\n",
    "\n"
   ]
  },
  {
   "cell_type": "markdown",
   "metadata": {},
   "source": [
    " Max Depth of 6 gives us better accuracy"
   ]
  },
  {
   "cell_type": "code",
   "execution_count": 43,
   "metadata": {},
   "outputs": [],
   "source": [
    "dtree = DecisionTreeClassifier(max_depth=6, random_state=0)\n",
    "dtree.fit(X_train, y_train)\n",
    "dtree_predict = dtree.predict(X_test)\n"
   ]
  },
  {
   "cell_type": "code",
   "execution_count": 44,
   "metadata": {
    "scrolled": true
   },
   "outputs": [
    {
     "name": "stdout",
     "output_type": "stream",
     "text": [
      "              precision    recall  f1-score   support\n",
      "\n",
      "           0       0.83      0.87      0.85      1285\n",
      "           1       0.59      0.51      0.55       464\n",
      "\n",
      "    accuracy                           0.77      1749\n",
      "   macro avg       0.71      0.69      0.70      1749\n",
      "weighted avg       0.77      0.77      0.77      1749\n",
      "\n"
     ]
    }
   ],
   "source": [
    "print(classification_report(y_test,dtree_predict))\n",
    "dectree = classification_report(y_test,dtree_predict)\n",
    "\n"
   ]
  },
  {
   "cell_type": "markdown",
   "metadata": {},
   "source": [
    "# 4. Linear SVM"
   ]
  },
  {
   "cell_type": "code",
   "execution_count": 45,
   "metadata": {},
   "outputs": [],
   "source": [
    "from sklearn.svm import LinearSVC\n",
    "svc_lin = LinearSVC(random_state=0)\n",
    "param_grid = {'C':[0.001, 0.01, 0.1, 1, 10, 100]}\n",
    "grid_svc_lin = GridSearchCV(svc_lin, param_grid, cv = 3)\n",
    "grid_svc_lin.fit(X_train, y_train)\n",
    "scores = cross_val_score(svc_lin,X_train,y_train)"
   ]
  },
  {
   "cell_type": "code",
   "execution_count": 46,
   "metadata": {},
   "outputs": [
    {
     "name": "stdout",
     "output_type": "stream",
     "text": [
      "Cross-validation scores: [0.80102916 0.79977117 0.80549199]\n",
      "Average cross-validation score: 0.80\n",
      "Linear SVC Training Score:  0.8059103908484271\n",
      "Linear SVC Testing Score:  0.8073184676958262\n",
      "Linear SVC Best Parameters:  {'C': 10}\n"
     ]
    }
   ],
   "source": [
    "print(\"Cross-validation scores: {}\".format(scores))\n",
    "print(\"Average cross-validation score: {:.2f}\".format(scores.mean()))\n",
    "print(\"Linear SVC Training Score: \", grid_svc_lin.score(X_train, y_train))\n",
    "print(\"Linear SVC Testing Score: \",grid_svc_lin.score(X_test, y_test))\n",
    "print(\"Linear SVC Best Parameters: \", grid_svc_lin.best_params_)\n",
    "cv_svc_lin = \"Average cross-validation score: {:.2f}\".format(scores.mean())\n",
    "param_svc_lin = grid_svc_lin.best_params_"
   ]
  },
  {
   "cell_type": "code",
   "execution_count": 47,
   "metadata": {},
   "outputs": [],
   "source": [
    "from sklearn.svm import LinearSVC   \n",
    "train_score_list = []\n",
    "test_score_list = []\n",
    "x_range = [0.001, 0.01, 0.1, 1, 10, 100]\n",
    "\n",
    "for alpha in x_range: \n",
    "    model = LinearSVC(C=alpha)\n",
    "    model.fit(X_train, y_train)\n",
    "    train_score_list.append(model.score(X_train, y_train))\n",
    "    test_score_list.append(model.score(X_test, y_test))"
   ]
  },
  {
   "cell_type": "code",
   "execution_count": 48,
   "metadata": {},
   "outputs": [
    {
     "data": {
      "text/plain": [
       "Text(0.5, 0, 'C')"
      ]
     },
     "execution_count": 48,
     "metadata": {},
     "output_type": "execute_result"
    },
    {
     "data": {
      "image/png": "[encoded data removed]",
      "text/plain": [
       "<Figure size 432x288 with 1 Axes>"
      ]
     },
     "metadata": {
      "needs_background": "light"
     },
     "output_type": "display_data"
    }
   ],
   "source": [
    "%matplotlib inline\n",
    "plt.plot(x_range, train_score_list, c = 'g', label = 'Train Score')\n",
    "plt.plot(x_range, test_score_list, c = 'b', label = 'Test Score')\n",
    "plt.xscale('log')\n",
    "plt.legend(loc = 3)\n",
    "plt.xlabel('C')"
   ]
  },
  {
   "cell_type": "markdown",
   "metadata": {},
   "source": [
    "Value of C being 10 gives us better accuracy"
   ]
  },
  {
   "cell_type": "code",
   "execution_count": 49,
   "metadata": {},
   "outputs": [],
   "source": [
    "LSVC_model = LinearSVC(C=10,random_state=0)\n",
    "LSVC_model.fit(X_train, y_train)\n",
    "LSVC_model_predict = LSVC_model.predict(X_test)\n"
   ]
  },
  {
   "cell_type": "code",
   "execution_count": 50,
   "metadata": {},
   "outputs": [
    {
     "name": "stdout",
     "output_type": "stream",
     "text": [
      "              precision    recall  f1-score   support\n",
      "\n",
      "           0       0.84      0.91      0.87      1285\n",
      "           1       0.67      0.53      0.59       464\n",
      "\n",
      "    accuracy                           0.81      1749\n",
      "   macro avg       0.76      0.72      0.73      1749\n",
      "weighted avg       0.80      0.81      0.80      1749\n",
      "\n"
     ]
    }
   ],
   "source": [
    "print(classification_report(y_test,LSVC_model_predict))\n",
    "lsvm = classification_report(y_test,LSVC_model_predict)\n"
   ]
  },
  {
   "cell_type": "markdown",
   "metadata": {},
   "source": [
    "# 5. RBF Kernal SVM\n"
   ]
  },
  {
   "cell_type": "code",
   "execution_count": 51,
   "metadata": {},
   "outputs": [],
   "source": [
    "from sklearn.svm import SVC\n",
    "kernel = SVC(kernel='rbf',random_state=0)\n",
    "Cs = [0.001, 0.01, 0.1, 1, 10, 100]\n",
    "gammas = [0.1,0,0.1,10]\n",
    "param_grid = {'C': Cs, 'gamma' : gammas}\n",
    "grid_kernel = GridSearchCV(kernel, param_grid, cv = 3)\n",
    "grid_kernel.fit(X_train, y_train)\n",
    "scores = cross_val_score(kernel,X_train,y_train)"
   ]
  },
  {
   "cell_type": "code",
   "execution_count": 52,
   "metadata": {},
   "outputs": [
    {
     "name": "stdout",
     "output_type": "stream",
     "text": [
      "Cross-validation scores: [0.79931389 0.79176201 0.78947368]\n",
      "Average cross-validation score: 0.79\n",
      "RBF Kernalized SVM Training Score:  0.8099142040038132\n",
      "RBF Kernalized SVM Testing Score:  0.8021726700971984\n",
      "RBF Kernalized SVM Best Parameters :  {'C': 1, 'gamma': 0.1}\n"
     ]
    }
   ],
   "source": [
    "print(\"Cross-validation scores: {}\".format(scores))\n",
    "print(\"Average cross-validation score: {:.2f}\".format(scores.mean()))\n",
    "print(\"RBF Kernalized SVM Training Score: \", grid_kernel.score(X_train, y_train))\n",
    "print(\"RBF Kernalized SVM Testing Score: \", grid_kernel.score(X_test, y_test))\n",
    "print(\"RBF Kernalized SVM Best Parameters : \", grid_kernel.best_params_)\n",
    "cv_rbf = \"Average cross-validation score: {:.2f}\".format(scores.mean())\n",
    "param_rbf = grid_kernel.best_params_"
   ]
  },
  {
   "cell_type": "code",
   "execution_count": 53,
   "metadata": {},
   "outputs": [],
   "source": [
    "from sklearn.svm import SVC\n",
    "kernel = SVC(kernel='rbf',random_state=0)\n",
    "train_score_list = []\n",
    "test_score_list = []\n",
    "x_range = [0.001, 0.01, 0.1, 1, 10, 100]\n",
    "\n",
    "for alpha in x_range: \n",
    "    model = SVC(kernel='rbf',C = alpha, gamma= 0.1)\n",
    "    model.fit(X_train,y_train)\n",
    "    train_score_list.append(model.score(X_train,y_train))\n",
    "    test_score_list.append(model.score(X_test, y_test))"
   ]
  },
  {
   "cell_type": "code",
   "execution_count": 54,
   "metadata": {},
   "outputs": [
    {
     "data": {
      "text/plain": [
       "Text(0.5, 0, 'C')"
      ]
     },
     "execution_count": 54,
     "metadata": {},
     "output_type": "execute_result"
    },
    {
     "data": {
      "image/png": "[encoded data removed]",
      "text/plain": [
       "<Figure size 432x288 with 1 Axes>"
      ]
     },
     "metadata": {
      "needs_background": "light"
     },
     "output_type": "display_data"
    }
   ],
   "source": [
    "%matplotlib inline\n",
    "plt.plot(x_range, train_score_list, c = 'g', label = 'Train Score')\n",
    "plt.plot(x_range, test_score_list, c = 'b', label = 'Test Score')\n",
    "plt.xscale('log')\n",
    "plt.legend(loc = 3)\n",
    "plt.xlabel('C')"
   ]
  },
  {
   "cell_type": "markdown",
   "metadata": {},
   "source": [
    "Value of C being 1 gives us better accuracy"
   ]
  },
  {
   "cell_type": "code",
   "execution_count": 55,
   "metadata": {},
   "outputs": [],
   "source": [
    "rbf_model = SVC(kernel='rbf',C = 1,random_state=0, gamma= 0.1)\n",
    "rbf_model.fit(X_train,y_train)\n",
    "rbf_model_predict = rbf_model.predict(X_test)"
   ]
  },
  {
   "cell_type": "code",
   "execution_count": 56,
   "metadata": {},
   "outputs": [
    {
     "name": "stdout",
     "output_type": "stream",
     "text": [
      "              precision    recall  f1-score   support\n",
      "\n",
      "           0       0.83      0.92      0.87      1285\n",
      "           1       0.69      0.47      0.56       464\n",
      "\n",
      "    accuracy                           0.80      1749\n",
      "   macro avg       0.76      0.70      0.71      1749\n",
      "weighted avg       0.79      0.80      0.79      1749\n",
      "\n"
     ]
    }
   ],
   "source": [
    "print(classification_report(y_test,rbf_model_predict))\n",
    "rbfsvm= classification_report(y_test,rbf_model_predict)\n"
   ]
  },
  {
   "cell_type": "markdown",
   "metadata": {},
   "source": [
    "# 6. Poly Kernal SVM"
   ]
  },
  {
   "cell_type": "code",
   "execution_count": 57,
   "metadata": {},
   "outputs": [],
   "source": [
    "from sklearn.svm import SVC\n",
    "kernel = SVC(kernel='poly',random_state=0)\n",
    "Cs = [0.001, 0.01, 0.1, 1, 10, 100]\n",
    "deg = [2,3,4,5,6,7,8,9,10]\n",
    "param_grid = {'C': Cs, 'degree' : deg}\n",
    "\n",
    "grid_kernel = GridSearchCV(kernel, param_grid, cv = 3)\n",
    "grid_kernel.fit(X_train, y_train)\n",
    "scores = cross_val_score(kernel,X_train,y_train)"
   ]
  },
  {
   "cell_type": "code",
   "execution_count": 58,
   "metadata": {},
   "outputs": [
    {
     "name": "stdout",
     "output_type": "stream",
     "text": [
      "Cross-validation scores: [0.76901086 0.76258581 0.77402746]\n",
      "Average cross-validation score: 0.77\n",
      "Poly Kernalized SVM Training Score:  0.8009532888465205\n",
      "Poly Kernalized SVM Testing Score:  0.7930245854774156\n",
      "Poly Kernalized SVM Best Parameters:  {'C': 10, 'degree': 3}\n"
     ]
    }
   ],
   "source": [
    "print(\"Cross-validation scores: {}\".format(scores))\n",
    "print(\"Average cross-validation score: {:.2f}\".format(scores.mean()))\n",
    "print(\"Poly Kernalized SVM Training Score: \", grid_kernel.score(X_train, y_train))\n",
    "print(\"Poly Kernalized SVM Testing Score: \", grid_kernel.score(X_test, y_test))\n",
    "print(\"Poly Kernalized SVM Best Parameters: \", grid_kernel.best_params_)\n",
    "cv_poly = \"Average cross-validation score: {:.2f}\".format(scores.mean())\n",
    "param_poly = grid_kernel.best_params_"
   ]
  },
  {
   "cell_type": "code",
   "execution_count": 59,
   "metadata": {},
   "outputs": [],
   "source": [
    "from sklearn.svm import SVC\n",
    "kernel = SVC(kernel='poly',random_state=0)\n",
    "train_score_list = []\n",
    "test_score_list = []\n",
    "x_range = [0.001, 0.01, 0.1, 1, 10, 100]\n",
    "\n",
    "for alpha in x_range: \n",
    "    model = SVC(kernel='poly',C = alpha, degree=3)\n",
    "    model.fit(X_train,y_train)\n",
    "    train_score_list.append(model.score(X_train,y_train))\n",
    "    test_score_list.append(model.score(X_test, y_test))"
   ]
  },
  {
   "cell_type": "code",
   "execution_count": 60,
   "metadata": {},
   "outputs": [
    {
     "data": {
      "text/plain": [
       "Text(0.5, 0, 'C')"
      ]
     },
     "execution_count": 60,
     "metadata": {},
     "output_type": "execute_result"
    },
    {
     "data": {
      "image/png": "[encoded data removed]",
      "text/plain": [
       "<Figure size 432x288 with 1 Axes>"
      ]
     },
     "metadata": {
      "needs_background": "light"
     },
     "output_type": "display_data"
    }
   ],
   "source": [
    "%matplotlib inline\n",
    "plt.plot(x_range, train_score_list, c = 'g', label = 'Train Score')\n",
    "plt.plot(x_range, test_score_list, c = 'b', label = 'Test Score')\n",
    "plt.xscale('log')\n",
    "plt.legend(loc = 3)\n",
    "plt.xlabel('C')"
   ]
  },
  {
   "cell_type": "markdown",
   "metadata": {},
   "source": [
    "Value of C being 10 gives us better accuracy"
   ]
  },
  {
   "cell_type": "code",
   "execution_count": 61,
   "metadata": {},
   "outputs": [],
   "source": [
    "poly_model = SVC(kernel='poly',C = 10, degree=3, random_state = 0)\n",
    "poly_model.fit(X_train,y_train)\n",
    "poly_model_predict = poly_model.predict(X_test)"
   ]
  },
  {
   "cell_type": "code",
   "execution_count": 62,
   "metadata": {},
   "outputs": [
    {
     "name": "stdout",
     "output_type": "stream",
     "text": [
      "              precision    recall  f1-score   support\n",
      "\n",
      "           0       0.82      0.93      0.87      1285\n",
      "           1       0.68      0.42      0.52       464\n",
      "\n",
      "    accuracy                           0.79      1749\n",
      "   macro avg       0.75      0.67      0.69      1749\n",
      "weighted avg       0.78      0.79      0.78      1749\n",
      "\n"
     ]
    }
   ],
   "source": [
    "print(classification_report(y_test,poly_model_predict))\n",
    "polysvm= classification_report(y_test,poly_model_predict)\n"
   ]
  },
  {
   "cell_type": "markdown",
   "metadata": {},
   "source": [
    "# Part 5\n",
    "\n",
    "## Reports for all the models\n",
    "\n"
   ]
  },
  {
   "cell_type": "code",
   "execution_count": 63,
   "metadata": {},
   "outputs": [
    {
     "name": "stdout",
     "output_type": "stream",
     "text": [
      "---------------------------------------Classification Report for Logistic Regresion---------------------------------------\n",
      "              precision    recall  f1-score   support\n",
      "\n",
      "           0       0.85      0.91      0.87      1285\n",
      "           1       0.67      0.54      0.60       464\n",
      "\n",
      "    accuracy                           0.81      1749\n",
      "   macro avg       0.76      0.72      0.74      1749\n",
      "weighted avg       0.80      0.81      0.80      1749\n",
      "\n",
      "---------------------------------------Confusion Matrix for Logistic Regresion--------------------------------------------\n",
      "[[1164  121]\n",
      " [ 213  251]]\n",
      "---------------------------------------Classification Report for K-Nearest Neighbors--------------------------------------\n",
      "              precision    recall  f1-score   support\n",
      "\n",
      "           0       0.84      0.89      0.86      1285\n",
      "           1       0.64      0.51      0.57       464\n",
      "\n",
      "    accuracy                           0.79      1749\n",
      "   macro avg       0.74      0.70      0.72      1749\n",
      "weighted avg       0.78      0.79      0.79      1749\n",
      "\n",
      "---------------------------------------Confusion Matrix for K-Nearest Neighbors-------------------------------------------\n",
      "[[1149  136]\n",
      " [ 226  238]]\n",
      "---------------------------------------Classification Report for Decision Tree--------------------------------------------\n",
      "              precision    recall  f1-score   support\n",
      "\n",
      "           0       0.83      0.87      0.85      1285\n",
      "           1       0.59      0.51      0.55       464\n",
      "\n",
      "    accuracy                           0.77      1749\n",
      "   macro avg       0.71      0.69      0.70      1749\n",
      "weighted avg       0.77      0.77      0.77      1749\n",
      "\n",
      "---------------------------------------Confusion Matrix for Decision Tree-------------------------------------------------\n",
      "[[1118  167]\n",
      " [ 227  237]]\n",
      "---------------------------------------Classification Report for Linear SVM-----------------------------------------------\n",
      "              precision    recall  f1-score   support\n",
      "\n",
      "           0       0.84      0.91      0.87      1285\n",
      "           1       0.67      0.53      0.59       464\n",
      "\n",
      "    accuracy                           0.81      1749\n",
      "   macro avg       0.76      0.72      0.73      1749\n",
      "weighted avg       0.80      0.81      0.80      1749\n",
      "\n",
      "---------------------------------------Confusion Matrix for Linear SVM----------------------------------------------------\n",
      "[[1167  118]\n",
      " [ 219  245]]\n",
      "---------------------------------------Classification Report for RBF Kernal SVM-------------------------------------------\n",
      "              precision    recall  f1-score   support\n",
      "\n",
      "           0       0.83      0.92      0.87      1285\n",
      "           1       0.69      0.47      0.56       464\n",
      "\n",
      "    accuracy                           0.80      1749\n",
      "   macro avg       0.76      0.70      0.71      1749\n",
      "weighted avg       0.79      0.80      0.79      1749\n",
      "\n",
      "---------------------------------------Confusion Matrix for RBF Kernal SVM------------------------------------------------\n",
      "[[1186   99]\n",
      " [ 247  217]]\n",
      "---------------------------------------Classification Report for Poly Kernal SVM------------------------------------------\n",
      "              precision    recall  f1-score   support\n",
      "\n",
      "           0       0.82      0.93      0.87      1285\n",
      "           1       0.68      0.42      0.52       464\n",
      "\n",
      "    accuracy                           0.79      1749\n",
      "   macro avg       0.75      0.67      0.69      1749\n",
      "weighted avg       0.78      0.79      0.78      1749\n",
      "\n",
      "---------------------------------------Confusion Matrix for Poly Kernal SVM-----------------------------------------------\n",
      "[[1192   93]\n",
      " [ 269  195]]\n"
     ]
    }
   ],
   "source": [
    "print(\"---------------------------------------Classification Report for Logistic Regresion---------------------------------------\")\n",
    "print(classification_report(y_test,logit_predict))\n",
    "print(\"---------------------------------------Confusion Matrix for Logistic Regresion--------------------------------------------\")\n",
    "print(confusion_matrix(y_test, logit_predict))\n",
    "print(\"---------------------------------------Classification Report for K-Nearest Neighbors--------------------------------------\")\n",
    "print(classification_report(y_test,Knn_predict))\n",
    "print(\"---------------------------------------Confusion Matrix for K-Nearest Neighbors-------------------------------------------\")\n",
    "print(confusion_matrix(y_test, Knn_predict))\n",
    "print(\"---------------------------------------Classification Report for Decision Tree--------------------------------------------\")\n",
    "print(classification_report(y_test,dtree_predict))\n",
    "print(\"---------------------------------------Confusion Matrix for Decision Tree-------------------------------------------------\")\n",
    "print(confusion_matrix(y_test, dtree_predict))\n",
    "print(\"---------------------------------------Classification Report for Linear SVM-----------------------------------------------\")\n",
    "print(classification_report(y_test,LSVC_model_predict))\n",
    "print(\"---------------------------------------Confusion Matrix for Linear SVM----------------------------------------------------\")\n",
    "print(confusion_matrix(y_test, LSVC_model_predict))\n",
    "print(\"---------------------------------------Classification Report for RBF Kernal SVM-------------------------------------------\")\n",
    "print(classification_report(y_test,rbf_model_predict))\n",
    "print(\"---------------------------------------Confusion Matrix for RBF Kernal SVM------------------------------------------------\")\n",
    "print(confusion_matrix(y_test, rbf_model_predict))\n",
    "print(\"---------------------------------------Classification Report for Poly Kernal SVM------------------------------------------\")\n",
    "print(classification_report(y_test,poly_model_predict))\n",
    "print(\"---------------------------------------Confusion Matrix for Poly Kernal SVM-----------------------------------------------\")\n",
    "print(confusion_matrix(y_test, poly_model_predict))\n",
    "\n"
   ]
  },
  {
   "cell_type": "markdown",
   "metadata": {},
   "source": [
    "# Final Report"
   ]
  },
  {
   "cell_type": "code",
   "execution_count": 64,
   "metadata": {},
   "outputs": [
    {
     "data": {
      "text/html": [
       "<div>\n",
       "<style scoped>\n",
       "    .dataframe tbody tr th:only-of-type {\n",
       "        vertical-align: middle;\n",
       "    }\n",
       "\n",
       "    .dataframe tbody tr th {\n",
       "        vertical-align: top;\n",
       "    }\n",
       "\n",
       "    .dataframe thead th {\n",
       "        text-align: right;\n",
       "    }\n",
       "</style>\n",
       "<table border=\"1\" class=\"dataframe\">\n",
       "  <thead>\n",
       "    <tr style=\"text-align: right;\">\n",
       "      <th></th>\n",
       "      <th>F1-Score (Churn)</th>\n",
       "      <th>F1-Score (NoChurn)</th>\n",
       "      <th>Accuracy</th>\n",
       "      <th>Avg Cross Validation Score</th>\n",
       "      <th>HyperParamters</th>\n",
       "    </tr>\n",
       "  </thead>\n",
       "  <tbody>\n",
       "    <tr>\n",
       "      <td>Logistic Regresion</td>\n",
       "      <td>0.60</td>\n",
       "      <td>0.87</td>\n",
       "      <td>0.81</td>\n",
       "      <td>0.80</td>\n",
       "      <td>{'C': 1}</td>\n",
       "    </tr>\n",
       "    <tr>\n",
       "      <td>Linear SVM</td>\n",
       "      <td>0.59</td>\n",
       "      <td>0.87</td>\n",
       "      <td>0.81</td>\n",
       "      <td>0.80</td>\n",
       "      <td>{'C': 10}</td>\n",
       "    </tr>\n",
       "    <tr>\n",
       "      <td>K-Nearest Neighbor</td>\n",
       "      <td>0.57</td>\n",
       "      <td>0.86</td>\n",
       "      <td>0.79</td>\n",
       "      <td>0.77</td>\n",
       "      <td>{'n_neighbors': 18}</td>\n",
       "    </tr>\n",
       "    <tr>\n",
       "      <td>RBF Kernal SVM</td>\n",
       "      <td>0.56</td>\n",
       "      <td>0.87</td>\n",
       "      <td>0.80</td>\n",
       "      <td>0.79</td>\n",
       "      <td>{'C': 1, 'gamma': 0.1}</td>\n",
       "    </tr>\n",
       "    <tr>\n",
       "      <td>Decision Tree</td>\n",
       "      <td>0.55</td>\n",
       "      <td>0.85</td>\n",
       "      <td>0.77</td>\n",
       "      <td>0.73</td>\n",
       "      <td>{'max_depth': 6}</td>\n",
       "    </tr>\n",
       "    <tr>\n",
       "      <td>Poly Kernal SVM</td>\n",
       "      <td>0.52</td>\n",
       "      <td>0.87</td>\n",
       "      <td>0.79</td>\n",
       "      <td>0.77</td>\n",
       "      <td>{'C': 10, 'degree': 3}</td>\n",
       "    </tr>\n",
       "  </tbody>\n",
       "</table>\n",
       "</div>"
      ],
      "text/plain": [
       "                   F1-Score (Churn) F1-Score (NoChurn) Accuracy  \\\n",
       "Logistic Regresion             0.60               0.87     0.81   \n",
       "Linear SVM                     0.59               0.87     0.81   \n",
       "K-Nearest Neighbor             0.57               0.86     0.79   \n",
       "RBF Kernal SVM                 0.56               0.87     0.80   \n",
       "Decision Tree                  0.55               0.85     0.77   \n",
       "Poly Kernal SVM                0.52               0.87     0.79   \n",
       "\n",
       "                   Avg Cross Validation Score          HyperParamters  \n",
       "Logistic Regresion                       0.80                {'C': 1}  \n",
       "Linear SVM                               0.80               {'C': 10}  \n",
       "K-Nearest Neighbor                       0.77     {'n_neighbors': 18}  \n",
       "RBF Kernal SVM                           0.79  {'C': 1, 'gamma': 0.1}  \n",
       "Decision Tree                            0.73        {'max_depth': 6}  \n",
       "Poly Kernal SVM                          0.77  {'C': 10, 'degree': 3}  "
      ]
     },
     "execution_count": 64,
     "metadata": {},
     "output_type": "execute_result"
    }
   ],
   "source": [
    "df = pd.DataFrame({\"Logistic Regresion\":[lr.split()[12],lr.split()[7],lr.split()[15],cv_logit.split()[3],param_logit],\"K-Nearest Neighbor\":[knb.split()[12],knb.split()[7],knb.split()[15],cv_Knn.split()[3],param_Knn],\"Decision Tree\":[dectree.split()[12],dectree.split()[7],dectree.split()[15],cv_dtree.split()[3],param_dtree],\"Linear SVM\":[lsvm.split()[12],lsvm.split()[7],lsvm.split()[15],cv_svc_lin.split()[3],param_svc_lin],\"RBF Kernal SVM\":[rbfsvm.split()[12],rbfsvm.split()[7], rbfsvm.split()[15],cv_rbf.split()[3],param_rbf],\"Poly Kernal SVM\":[polysvm.split()[12],polysvm.split()[7],polysvm.split()[15],cv_poly.split()[3],param_poly]})\n",
    "df2 = df.T\n",
    "df2.columns=['F1-Score (Churn)','F1-Score (NoChurn)','Accuracy','Avg Cross Validation Score','HyperParamters']\n",
    "df2.sort_values('F1-Score (Churn)',ascending=False)"
   ]
  },
  {
   "cell_type": "markdown",
   "metadata": {},
   "source": [
    "## We have decided to go with Logistic Regression as the best model for this data. Our F1-score reaches 0.60, meaning we are able to capture 60% of the customer who churn, Also it has 81% accuracy which is the best accuracy among all the models."
   ]
  },
  {
   "cell_type": "markdown",
   "metadata": {},
   "source": [
    "-----------------------------------------------\n",
    "\n",
    "\n",
    "# END"
   ]
  }
 ],
 "metadata": {
  "kernelspec": {
   "display_name": "Python 3",
   "language": "python",
   "name": "python3"
  },
  "language_info": {
   "codemirror_mode": {
    "name": "ipython",
    "version": 3
   },
   "file_extension": ".py",
   "mimetype": "text/x-python",
   "name": "python",
   "nbconvert_exporter": "python",
   "pygments_lexer": "ipython3",
   "version": "3.7.0"
  }
 },
 "nbformat": 4,
 "nbformat_minor": 2
}
